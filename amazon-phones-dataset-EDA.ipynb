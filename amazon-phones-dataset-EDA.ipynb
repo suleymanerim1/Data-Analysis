{
 "cells": [
  {
   "cell_type": "markdown",
   "id": "c6a86131",
   "metadata": {
    "papermill": {
     "duration": 0.012638,
     "end_time": "2022-08-26T08:55:06.571598",
     "exception": false,
     "start_time": "2022-08-26T08:55:06.558960",
     "status": "completed"
    },
    "tags": []
   },
   "source": [
    "***\n",
    "\n",
    "**Hi, Welcome to my analysis :)**\n",
    "\n",
    "This dataset is collected from amazon website and data is about the phones that are available amazon website data\n",
    "\n",
    "The dataset has total **369 rows** and **8 columns**\n",
    "\n",
    "**The Features**\n",
    "1. phone_name\n",
    "2. Unnamed 1 (dummy column) \n",
    "3. Brand\n",
    "4. rating out of five\n",
    "5. discount in percentage\n",
    "6. real price of phone\n",
    "7. Phones discounted price\n",
    "8. rated by people(how many people rated this phones)\n",
    "\n",
    "\n",
    "***\n",
    "**Steps**\n",
    "1. Import Dataset\n",
    "2. Understand the Data\n",
    "3. Preprocessing\n",
    "4. Exploratory Data Analysis\n",
    "\n",
    "***\n",
    "**Asked Questions**\n",
    "\n",
    "* Which brands are most upvoted and least upvoted.\n",
    "* Which brands is the most famous one ( more total number of ratings).\n",
    "* Check if there is a relation between price of a product and its ratings.\n",
    "* Check the offered phone types and it's prices by Brands.\n",
    "* Check the market share of Brands by it's offered products.\n",
    "***\n"
   ]
  },
  {
   "cell_type": "code",
   "execution_count": 1,
   "id": "aa847b62",
   "metadata": {
    "_cell_guid": "b1076dfc-b9ad-4769-8c92-a6c4dae69d19",
    "_kg_hide-input": true,
    "_kg_hide-output": true,
    "_uuid": "8f2839f25d086af736a60e9eeb907d3b93b6e0e5",
    "execution": {
     "iopub.execute_input": "2022-08-26T08:55:06.597017Z",
     "iopub.status.busy": "2022-08-26T08:55:06.595804Z",
     "iopub.status.idle": "2022-08-26T08:55:06.618056Z",
     "shell.execute_reply": "2022-08-26T08:55:06.617226Z"
    },
    "papermill": {
     "duration": 0.037729,
     "end_time": "2022-08-26T08:55:06.620671",
     "exception": false,
     "start_time": "2022-08-26T08:55:06.582942",
     "status": "completed"
    },
    "tags": []
   },
   "outputs": [
    {
     "name": "stdout",
     "output_type": "stream",
     "text": [
      "/kaggle/input/phonesonamazon/amazon 1.xlsx\n"
     ]
    }
   ],
   "source": [
    "# This Python 3 environment comes with many helpful analytics libraries installed\n",
    "# It is defined by the kaggle/python Docker image: https://github.com/kaggle/docker-python\n",
    "# For example, here's several helpful packages to load\n",
    "\n",
    "import numpy as np # linear algebra\n",
    "import pandas as pd # data processing, CSV file I/O (e.g. pd.read_csv)\n",
    "\n",
    "# Input data files are available in the read-only \"../input/\" directory\n",
    "# For example, running this (by clicking run or pressing Shift+Enter) will list all files under the input directory\n",
    "\n",
    "import os\n",
    "for dirname, _, filenames in os.walk('/kaggle/input'):\n",
    "    for filename in filenames:\n",
    "        print(os.path.join(dirname, filename))\n",
    "\n",
    "# You can write up to 20GB to the current directory (/kaggle/working/) that gets preserved as output when you create a version using \"Save & Run All\" \n",
    "# You can also write temporary files to /kaggle/temp/, but they won't be saved outside of the current session"
   ]
  },
  {
   "cell_type": "code",
   "execution_count": 2,
   "id": "aafa3f6c",
   "metadata": {
    "_kg_hide-input": true,
    "_kg_hide-output": true,
    "execution": {
     "iopub.execute_input": "2022-08-26T08:55:06.647288Z",
     "iopub.status.busy": "2022-08-26T08:55:06.646268Z",
     "iopub.status.idle": "2022-08-26T08:55:20.721395Z",
     "shell.execute_reply": "2022-08-26T08:55:20.719478Z"
    },
    "papermill": {
     "duration": 14.090595,
     "end_time": "2022-08-26T08:55:20.724370",
     "exception": false,
     "start_time": "2022-08-26T08:55:06.633775",
     "status": "completed"
    },
    "tags": []
   },
   "outputs": [
    {
     "name": "stdout",
     "output_type": "stream",
     "text": [
      "Collecting openpyxl\r\n",
      "  Downloading openpyxl-3.0.10-py2.py3-none-any.whl (242 kB)\r\n",
      "\u001b[2K     \u001b[90m━━━━━━━━━━━━━━━━━━━━━━━━━━━━━━━━━━━━━━━\u001b[0m \u001b[32m242.1/242.1 kB\u001b[0m \u001b[31m1.4 MB/s\u001b[0m eta \u001b[36m0:00:00\u001b[0m\r\n",
      "\u001b[?25hCollecting et-xmlfile\r\n",
      "  Downloading et_xmlfile-1.1.0-py3-none-any.whl (4.7 kB)\r\n",
      "Installing collected packages: et-xmlfile, openpyxl\r\n",
      "Successfully installed et-xmlfile-1.1.0 openpyxl-3.0.10\r\n",
      "\u001b[33mWARNING: Running pip as the 'root' user can result in broken permissions and conflicting behaviour with the system package manager. It is recommended to use a virtual environment instead: https://pip.pypa.io/warnings/venv\u001b[0m\u001b[33m\r\n",
      "\u001b[0m"
     ]
    }
   ],
   "source": [
    "!pip install openpyxl"
   ]
  },
  {
   "cell_type": "code",
   "execution_count": 3,
   "id": "8462b6f2",
   "metadata": {
    "execution": {
     "iopub.execute_input": "2022-08-26T08:55:20.751059Z",
     "iopub.status.busy": "2022-08-26T08:55:20.750639Z",
     "iopub.status.idle": "2022-08-26T08:55:21.833157Z",
     "shell.execute_reply": "2022-08-26T08:55:21.832194Z"
    },
    "papermill": {
     "duration": 1.099047,
     "end_time": "2022-08-26T08:55:21.836183",
     "exception": false,
     "start_time": "2022-08-26T08:55:20.737136",
     "status": "completed"
    },
    "tags": []
   },
   "outputs": [],
   "source": [
    "import numpy as np # linear algebra\n",
    "import pandas as pd # data processing, CSV file I/O (e.g. pd.read_csv)\n",
    "import seaborn as sns\n",
    "import matplotlib.pyplot as plt\n",
    "%matplotlib inline"
   ]
  },
  {
   "cell_type": "markdown",
   "id": "2dc65f04",
   "metadata": {
    "papermill": {
     "duration": 0.012056,
     "end_time": "2022-08-26T08:55:21.860937",
     "exception": false,
     "start_time": "2022-08-26T08:55:21.848881",
     "status": "completed"
    },
    "tags": []
   },
   "source": [
    "# 1. Import Dataset"
   ]
  },
  {
   "cell_type": "code",
   "execution_count": 4,
   "id": "1bf2ed41",
   "metadata": {
    "execution": {
     "iopub.execute_input": "2022-08-26T08:55:21.887873Z",
     "iopub.status.busy": "2022-08-26T08:55:21.887130Z",
     "iopub.status.idle": "2022-08-26T08:55:22.201554Z",
     "shell.execute_reply": "2022-08-26T08:55:22.200348Z"
    },
    "papermill": {
     "duration": 0.330923,
     "end_time": "2022-08-26T08:55:22.204343",
     "exception": false,
     "start_time": "2022-08-26T08:55:21.873420",
     "status": "completed"
    },
    "tags": []
   },
   "outputs": [
    {
     "data": {
      "text/html": [
       "<div>\n",
       "<style scoped>\n",
       "    .dataframe tbody tr th:only-of-type {\n",
       "        vertical-align: middle;\n",
       "    }\n",
       "\n",
       "    .dataframe tbody tr th {\n",
       "        vertical-align: top;\n",
       "    }\n",
       "\n",
       "    .dataframe thead th {\n",
       "        text-align: right;\n",
       "    }\n",
       "</style>\n",
       "<table border=\"1\" class=\"dataframe\">\n",
       "  <thead>\n",
       "    <tr style=\"text-align: right;\">\n",
       "      <th></th>\n",
       "      <th>phone_name</th>\n",
       "      <th>Unnamed: 1</th>\n",
       "      <th>Brand</th>\n",
       "      <th>ratting_out_of_five</th>\n",
       "      <th>Rated_people</th>\n",
       "      <th>Offered_price_in_rupee</th>\n",
       "      <th>real_rice_in_rupee</th>\n",
       "      <th>Percent_off</th>\n",
       "    </tr>\n",
       "  </thead>\n",
       "  <tbody>\n",
       "    <tr>\n",
       "      <th>0</th>\n",
       "      <td>Samsung Galaxy S20 FE 5G (Cloud Navy, 8GB RAM,...</td>\n",
       "      <td>NaN</td>\n",
       "      <td>Samsung</td>\n",
       "      <td>4.4</td>\n",
       "      <td>17,194</td>\n",
       "      <td>39,990</td>\n",
       "      <td>74999.0</td>\n",
       "      <td>47.0</td>\n",
       "    </tr>\n",
       "    <tr>\n",
       "      <th>1</th>\n",
       "      <td>Samsung Galaxy M32 (Light Blue, 4GB RAM, 64GB ...</td>\n",
       "      <td>NaN</td>\n",
       "      <td>Samsung</td>\n",
       "      <td>4.1</td>\n",
       "      <td>44,417</td>\n",
       "      <td>14,999</td>\n",
       "      <td>16999.0</td>\n",
       "      <td>12.0</td>\n",
       "    </tr>\n",
       "    <tr>\n",
       "      <th>2</th>\n",
       "      <td>Redmi 9A Sport (Coral Green, 2GB RAM, 32GB Sto...</td>\n",
       "      <td>NaN</td>\n",
       "      <td>Redmi</td>\n",
       "      <td>4.2</td>\n",
       "      <td>178,833</td>\n",
       "      <td>6,999</td>\n",
       "      <td>8499.0</td>\n",
       "      <td>18.0</td>\n",
       "    </tr>\n",
       "    <tr>\n",
       "      <th>3</th>\n",
       "      <td>I KALL Z4 Smartphone (5.5 Inch Display, 4GB, 3...</td>\n",
       "      <td>NaN</td>\n",
       "      <td>I Kall</td>\n",
       "      <td>NaN</td>\n",
       "      <td>NaN</td>\n",
       "      <td>4,999</td>\n",
       "      <td>6499.0</td>\n",
       "      <td>23.0</td>\n",
       "    </tr>\n",
       "    <tr>\n",
       "      <th>4</th>\n",
       "      <td>Redmi 9A Sport (Carbon Black, 2GB RAM, 32GB St...</td>\n",
       "      <td>NaN</td>\n",
       "      <td>Redmi</td>\n",
       "      <td>4.2</td>\n",
       "      <td>178,833</td>\n",
       "      <td>6,999</td>\n",
       "      <td>7999.0</td>\n",
       "      <td>13.0</td>\n",
       "    </tr>\n",
       "    <tr>\n",
       "      <th>...</th>\n",
       "      <td>...</td>\n",
       "      <td>...</td>\n",
       "      <td>...</td>\n",
       "      <td>...</td>\n",
       "      <td>...</td>\n",
       "      <td>...</td>\n",
       "      <td>...</td>\n",
       "      <td>...</td>\n",
       "    </tr>\n",
       "    <tr>\n",
       "      <th>360</th>\n",
       "      <td>iQOO vivo Z6 Pro 5G (Phantom Dusk, 12GB RAM, 2...</td>\n",
       "      <td>NaN</td>\n",
       "      <td>iQOO</td>\n",
       "      <td>4.2</td>\n",
       "      <td>3,291</td>\n",
       "      <td>28,999</td>\n",
       "      <td>33990.0</td>\n",
       "      <td>15.0</td>\n",
       "    </tr>\n",
       "    <tr>\n",
       "      <th>361</th>\n",
       "      <td>realme narzo 30 5G (Racing Blue, 6GB RAM, 128G...</td>\n",
       "      <td>NaN</td>\n",
       "      <td>realme</td>\n",
       "      <td>4.2</td>\n",
       "      <td>2,186</td>\n",
       "      <td>16,999</td>\n",
       "      <td>17999.0</td>\n",
       "      <td>6.0</td>\n",
       "    </tr>\n",
       "    <tr>\n",
       "      <th>362</th>\n",
       "      <td>Xiaomi 11i 5G (Purple Mist, 6GB RAM, 128GB Sto...</td>\n",
       "      <td>NaN</td>\n",
       "      <td>Xiaomi</td>\n",
       "      <td>3.7</td>\n",
       "      <td>22</td>\n",
       "      <td>22,990</td>\n",
       "      <td>29999.0</td>\n",
       "      <td>23.0</td>\n",
       "    </tr>\n",
       "    <tr>\n",
       "      <th>363</th>\n",
       "      <td>(Renewed) Nokia 6.1 Plus TA-1083 DS (Blue, 64GB)</td>\n",
       "      <td>NaN</td>\n",
       "      <td>(Renewed</td>\n",
       "      <td>3.4</td>\n",
       "      <td>133</td>\n",
       "      <td>16,999</td>\n",
       "      <td>18599.0</td>\n",
       "      <td>8.0</td>\n",
       "    </tr>\n",
       "    <tr>\n",
       "      <th>364</th>\n",
       "      <td>(Renewed) Nokia G21 Android Smartphone, Dual S...</td>\n",
       "      <td>NaN</td>\n",
       "      <td>(Renewed</td>\n",
       "      <td>3.0</td>\n",
       "      <td>4</td>\n",
       "      <td>12,499</td>\n",
       "      <td>14499.0</td>\n",
       "      <td>13.0</td>\n",
       "    </tr>\n",
       "  </tbody>\n",
       "</table>\n",
       "<p>365 rows × 8 columns</p>\n",
       "</div>"
      ],
      "text/plain": [
       "                                            phone_name  Unnamed: 1     Brand  \\\n",
       "0    Samsung Galaxy S20 FE 5G (Cloud Navy, 8GB RAM,...         NaN   Samsung   \n",
       "1    Samsung Galaxy M32 (Light Blue, 4GB RAM, 64GB ...         NaN   Samsung   \n",
       "2    Redmi 9A Sport (Coral Green, 2GB RAM, 32GB Sto...         NaN     Redmi   \n",
       "3    I KALL Z4 Smartphone (5.5 Inch Display, 4GB, 3...         NaN    I Kall   \n",
       "4    Redmi 9A Sport (Carbon Black, 2GB RAM, 32GB St...         NaN     Redmi   \n",
       "..                                                 ...         ...       ...   \n",
       "360  iQOO vivo Z6 Pro 5G (Phantom Dusk, 12GB RAM, 2...         NaN      iQOO   \n",
       "361  realme narzo 30 5G (Racing Blue, 6GB RAM, 128G...         NaN    realme   \n",
       "362  Xiaomi 11i 5G (Purple Mist, 6GB RAM, 128GB Sto...         NaN    Xiaomi   \n",
       "363   (Renewed) Nokia 6.1 Plus TA-1083 DS (Blue, 64GB)         NaN  (Renewed   \n",
       "364  (Renewed) Nokia G21 Android Smartphone, Dual S...         NaN  (Renewed   \n",
       "\n",
       "     ratting_out_of_five Rated_people Offered_price_in_rupee  \\\n",
       "0                    4.4       17,194                 39,990   \n",
       "1                    4.1       44,417                 14,999   \n",
       "2                    4.2      178,833                  6,999   \n",
       "3                    NaN          NaN                  4,999   \n",
       "4                    4.2      178,833                  6,999   \n",
       "..                   ...          ...                    ...   \n",
       "360                  4.2        3,291                 28,999   \n",
       "361                  4.2        2,186                 16,999   \n",
       "362                  3.7           22                 22,990   \n",
       "363                  3.4          133                 16,999   \n",
       "364                  3.0            4                 12,499   \n",
       "\n",
       "     real_rice_in_rupee  Percent_off  \n",
       "0               74999.0         47.0  \n",
       "1               16999.0         12.0  \n",
       "2                8499.0         18.0  \n",
       "3                6499.0         23.0  \n",
       "4                7999.0         13.0  \n",
       "..                  ...          ...  \n",
       "360             33990.0         15.0  \n",
       "361             17999.0          6.0  \n",
       "362             29999.0         23.0  \n",
       "363             18599.0          8.0  \n",
       "364             14499.0         13.0  \n",
       "\n",
       "[365 rows x 8 columns]"
      ]
     },
     "execution_count": 4,
     "metadata": {},
     "output_type": "execute_result"
    }
   ],
   "source": [
    "df = pd.read_excel(\"/kaggle/input/phonesonamazon/amazon 1.xlsx\")\n",
    "df"
   ]
  },
  {
   "cell_type": "markdown",
   "id": "a7c69f93",
   "metadata": {
    "papermill": {
     "duration": 0.012058,
     "end_time": "2022-08-26T08:55:22.228824",
     "exception": false,
     "start_time": "2022-08-26T08:55:22.216766",
     "status": "completed"
    },
    "tags": []
   },
   "source": [
    "# 2. Understand the Data"
   ]
  },
  {
   "cell_type": "code",
   "execution_count": 5,
   "id": "e2253208",
   "metadata": {
    "execution": {
     "iopub.execute_input": "2022-08-26T08:55:22.255933Z",
     "iopub.status.busy": "2022-08-26T08:55:22.255032Z",
     "iopub.status.idle": "2022-08-26T08:55:22.279835Z",
     "shell.execute_reply": "2022-08-26T08:55:22.279004Z"
    },
    "papermill": {
     "duration": 0.042347,
     "end_time": "2022-08-26T08:55:22.283605",
     "exception": false,
     "start_time": "2022-08-26T08:55:22.241258",
     "status": "completed"
    },
    "tags": []
   },
   "outputs": [
    {
     "name": "stdout",
     "output_type": "stream",
     "text": [
      "<class 'pandas.core.frame.DataFrame'>\n",
      "RangeIndex: 365 entries, 0 to 364\n",
      "Data columns (total 8 columns):\n",
      " #   Column                  Non-Null Count  Dtype  \n",
      "---  ------                  --------------  -----  \n",
      " 0   phone_name              365 non-null    object \n",
      " 1   Unnamed: 1              0 non-null      float64\n",
      " 2   Brand                   365 non-null    object \n",
      " 3   ratting_out_of_five     334 non-null    float64\n",
      " 4   Rated_people            337 non-null    object \n",
      " 5   Offered_price_in_rupee  352 non-null    object \n",
      " 6   real_rice_in_rupee      342 non-null    float64\n",
      " 7   Percent_off             342 non-null    float64\n",
      "dtypes: float64(4), object(4)\n",
      "memory usage: 22.9+ KB\n"
     ]
    }
   ],
   "source": [
    "df.info()"
   ]
  },
  {
   "cell_type": "code",
   "execution_count": 6,
   "id": "497e7cd1",
   "metadata": {
    "execution": {
     "iopub.execute_input": "2022-08-26T08:55:22.311757Z",
     "iopub.status.busy": "2022-08-26T08:55:22.310912Z",
     "iopub.status.idle": "2022-08-26T08:55:22.346095Z",
     "shell.execute_reply": "2022-08-26T08:55:22.344933Z"
    },
    "papermill": {
     "duration": 0.051472,
     "end_time": "2022-08-26T08:55:22.348367",
     "exception": false,
     "start_time": "2022-08-26T08:55:22.296895",
     "status": "completed"
    },
    "tags": []
   },
   "outputs": [
    {
     "data": {
      "text/html": [
       "<div>\n",
       "<style scoped>\n",
       "    .dataframe tbody tr th:only-of-type {\n",
       "        vertical-align: middle;\n",
       "    }\n",
       "\n",
       "    .dataframe tbody tr th {\n",
       "        vertical-align: top;\n",
       "    }\n",
       "\n",
       "    .dataframe thead th {\n",
       "        text-align: right;\n",
       "    }\n",
       "</style>\n",
       "<table border=\"1\" class=\"dataframe\">\n",
       "  <thead>\n",
       "    <tr style=\"text-align: right;\">\n",
       "      <th></th>\n",
       "      <th>phone_name</th>\n",
       "      <th>Unnamed: 1</th>\n",
       "      <th>Brand</th>\n",
       "      <th>ratting_out_of_five</th>\n",
       "      <th>Rated_people</th>\n",
       "      <th>Offered_price_in_rupee</th>\n",
       "      <th>real_rice_in_rupee</th>\n",
       "      <th>Percent_off</th>\n",
       "    </tr>\n",
       "  </thead>\n",
       "  <tbody>\n",
       "    <tr>\n",
       "      <th>count</th>\n",
       "      <td>365</td>\n",
       "      <td>0.0</td>\n",
       "      <td>365</td>\n",
       "      <td>334.000000</td>\n",
       "      <td>337</td>\n",
       "      <td>352</td>\n",
       "      <td>342.000000</td>\n",
       "      <td>342.000000</td>\n",
       "    </tr>\n",
       "    <tr>\n",
       "      <th>unique</th>\n",
       "      <td>321</td>\n",
       "      <td>NaN</td>\n",
       "      <td>50</td>\n",
       "      <td>NaN</td>\n",
       "      <td>128</td>\n",
       "      <td>135</td>\n",
       "      <td>NaN</td>\n",
       "      <td>NaN</td>\n",
       "    </tr>\n",
       "    <tr>\n",
       "      <th>top</th>\n",
       "      <td>Samsung Galaxy S20 FE 5G (Cloud Navy, 8GB RAM,...</td>\n",
       "      <td>NaN</td>\n",
       "      <td>Samsung</td>\n",
       "      <td>NaN</td>\n",
       "      <td>2</td>\n",
       "      <td>6,999</td>\n",
       "      <td>NaN</td>\n",
       "      <td>NaN</td>\n",
       "    </tr>\n",
       "    <tr>\n",
       "      <th>freq</th>\n",
       "      <td>2</td>\n",
       "      <td>NaN</td>\n",
       "      <td>63</td>\n",
       "      <td>NaN</td>\n",
       "      <td>28</td>\n",
       "      <td>17</td>\n",
       "      <td>NaN</td>\n",
       "      <td>NaN</td>\n",
       "    </tr>\n",
       "    <tr>\n",
       "      <th>mean</th>\n",
       "      <td>NaN</td>\n",
       "      <td>NaN</td>\n",
       "      <td>NaN</td>\n",
       "      <td>3.885928</td>\n",
       "      <td>NaN</td>\n",
       "      <td>NaN</td>\n",
       "      <td>18079.730994</td>\n",
       "      <td>22.315789</td>\n",
       "    </tr>\n",
       "    <tr>\n",
       "      <th>std</th>\n",
       "      <td>NaN</td>\n",
       "      <td>NaN</td>\n",
       "      <td>NaN</td>\n",
       "      <td>0.627220</td>\n",
       "      <td>NaN</td>\n",
       "      <td>NaN</td>\n",
       "      <td>13747.094069</td>\n",
       "      <td>9.850182</td>\n",
       "    </tr>\n",
       "    <tr>\n",
       "      <th>min</th>\n",
       "      <td>NaN</td>\n",
       "      <td>NaN</td>\n",
       "      <td>NaN</td>\n",
       "      <td>1.000000</td>\n",
       "      <td>NaN</td>\n",
       "      <td>NaN</td>\n",
       "      <td>1399.000000</td>\n",
       "      <td>6.000000</td>\n",
       "    </tr>\n",
       "    <tr>\n",
       "      <th>25%</th>\n",
       "      <td>NaN</td>\n",
       "      <td>NaN</td>\n",
       "      <td>NaN</td>\n",
       "      <td>3.700000</td>\n",
       "      <td>NaN</td>\n",
       "      <td>NaN</td>\n",
       "      <td>9999.000000</td>\n",
       "      <td>15.000000</td>\n",
       "    </tr>\n",
       "    <tr>\n",
       "      <th>50%</th>\n",
       "      <td>NaN</td>\n",
       "      <td>NaN</td>\n",
       "      <td>NaN</td>\n",
       "      <td>4.100000</td>\n",
       "      <td>NaN</td>\n",
       "      <td>NaN</td>\n",
       "      <td>14999.000000</td>\n",
       "      <td>21.000000</td>\n",
       "    </tr>\n",
       "    <tr>\n",
       "      <th>75%</th>\n",
       "      <td>NaN</td>\n",
       "      <td>NaN</td>\n",
       "      <td>NaN</td>\n",
       "      <td>4.200000</td>\n",
       "      <td>NaN</td>\n",
       "      <td>NaN</td>\n",
       "      <td>20990.000000</td>\n",
       "      <td>27.750000</td>\n",
       "    </tr>\n",
       "    <tr>\n",
       "      <th>max</th>\n",
       "      <td>NaN</td>\n",
       "      <td>NaN</td>\n",
       "      <td>NaN</td>\n",
       "      <td>5.000000</td>\n",
       "      <td>NaN</td>\n",
       "      <td>NaN</td>\n",
       "      <td>89999.000000</td>\n",
       "      <td>79.000000</td>\n",
       "    </tr>\n",
       "  </tbody>\n",
       "</table>\n",
       "</div>"
      ],
      "text/plain": [
       "                                               phone_name  Unnamed: 1  \\\n",
       "count                                                 365         0.0   \n",
       "unique                                                321         NaN   \n",
       "top     Samsung Galaxy S20 FE 5G (Cloud Navy, 8GB RAM,...         NaN   \n",
       "freq                                                    2         NaN   \n",
       "mean                                                  NaN         NaN   \n",
       "std                                                   NaN         NaN   \n",
       "min                                                   NaN         NaN   \n",
       "25%                                                   NaN         NaN   \n",
       "50%                                                   NaN         NaN   \n",
       "75%                                                   NaN         NaN   \n",
       "max                                                   NaN         NaN   \n",
       "\n",
       "          Brand  ratting_out_of_five Rated_people Offered_price_in_rupee  \\\n",
       "count       365           334.000000          337                    352   \n",
       "unique       50                  NaN          128                    135   \n",
       "top     Samsung                  NaN            2                  6,999   \n",
       "freq         63                  NaN           28                     17   \n",
       "mean        NaN             3.885928          NaN                    NaN   \n",
       "std         NaN             0.627220          NaN                    NaN   \n",
       "min         NaN             1.000000          NaN                    NaN   \n",
       "25%         NaN             3.700000          NaN                    NaN   \n",
       "50%         NaN             4.100000          NaN                    NaN   \n",
       "75%         NaN             4.200000          NaN                    NaN   \n",
       "max         NaN             5.000000          NaN                    NaN   \n",
       "\n",
       "        real_rice_in_rupee  Percent_off  \n",
       "count           342.000000   342.000000  \n",
       "unique                 NaN          NaN  \n",
       "top                    NaN          NaN  \n",
       "freq                   NaN          NaN  \n",
       "mean          18079.730994    22.315789  \n",
       "std           13747.094069     9.850182  \n",
       "min            1399.000000     6.000000  \n",
       "25%            9999.000000    15.000000  \n",
       "50%           14999.000000    21.000000  \n",
       "75%           20990.000000    27.750000  \n",
       "max           89999.000000    79.000000  "
      ]
     },
     "execution_count": 6,
     "metadata": {},
     "output_type": "execute_result"
    }
   ],
   "source": [
    "df.describe(include=\"all\")"
   ]
  },
  {
   "cell_type": "markdown",
   "id": "266fdfb3",
   "metadata": {
    "papermill": {
     "duration": 0.012304,
     "end_time": "2022-08-26T08:55:22.373569",
     "exception": false,
     "start_time": "2022-08-26T08:55:22.361265",
     "status": "completed"
    },
    "tags": []
   },
   "source": [
    "#  3. Preprocessing"
   ]
  },
  {
   "cell_type": "markdown",
   "id": "778ad297",
   "metadata": {
    "papermill": {
     "duration": 0.012152,
     "end_time": "2022-08-26T08:55:22.398273",
     "exception": false,
     "start_time": "2022-08-26T08:55:22.386121",
     "status": "completed"
    },
    "tags": []
   },
   "source": [
    "### 3.1. Preprocessing for Brands and Phone_name"
   ]
  },
  {
   "cell_type": "code",
   "execution_count": 7,
   "id": "1d0636cc",
   "metadata": {
    "execution": {
     "iopub.execute_input": "2022-08-26T08:55:22.426136Z",
     "iopub.status.busy": "2022-08-26T08:55:22.425340Z",
     "iopub.status.idle": "2022-08-26T08:55:22.438172Z",
     "shell.execute_reply": "2022-08-26T08:55:22.437314Z"
    },
    "papermill": {
     "duration": 0.029714,
     "end_time": "2022-08-26T08:55:22.440644",
     "exception": false,
     "start_time": "2022-08-26T08:55:22.410930",
     "status": "completed"
    },
    "tags": []
   },
   "outputs": [],
   "source": [
    "## Make capital letters all phone_names and brands\n",
    "# So that we do not have duplicates with capital and lowercase letters.\n",
    "df.loc[:,[\"phone_name\",\"Brand\"]]=df.loc[:,[\"phone_name\",\"Brand\"]].apply(lambda x : x.str.upper())"
   ]
  },
  {
   "cell_type": "code",
   "execution_count": 8,
   "id": "e0a5c2d0",
   "metadata": {
    "execution": {
     "iopub.execute_input": "2022-08-26T08:55:22.468403Z",
     "iopub.status.busy": "2022-08-26T08:55:22.467628Z",
     "iopub.status.idle": "2022-08-26T08:55:22.480614Z",
     "shell.execute_reply": "2022-08-26T08:55:22.479618Z"
    },
    "papermill": {
     "duration": 0.029471,
     "end_time": "2022-08-26T08:55:22.482870",
     "exception": false,
     "start_time": "2022-08-26T08:55:22.453399",
     "status": "completed"
    },
    "tags": []
   },
   "outputs": [
    {
     "data": {
      "text/html": [
       "<div>\n",
       "<style scoped>\n",
       "    .dataframe tbody tr th:only-of-type {\n",
       "        vertical-align: middle;\n",
       "    }\n",
       "\n",
       "    .dataframe tbody tr th {\n",
       "        vertical-align: top;\n",
       "    }\n",
       "\n",
       "    .dataframe thead th {\n",
       "        text-align: right;\n",
       "    }\n",
       "</style>\n",
       "<table border=\"1\" class=\"dataframe\">\n",
       "  <thead>\n",
       "    <tr style=\"text-align: right;\">\n",
       "      <th></th>\n",
       "      <th>phone_name</th>\n",
       "      <th>Unnamed: 1</th>\n",
       "      <th>Brand</th>\n",
       "      <th>ratting_out_of_five</th>\n",
       "      <th>Rated_people</th>\n",
       "      <th>Offered_price_in_rupee</th>\n",
       "      <th>real_rice_in_rupee</th>\n",
       "      <th>Percent_off</th>\n",
       "    </tr>\n",
       "  </thead>\n",
       "  <tbody>\n",
       "  </tbody>\n",
       "</table>\n",
       "</div>"
      ],
      "text/plain": [
       "Empty DataFrame\n",
       "Columns: [phone_name, Unnamed: 1, Brand, ratting_out_of_five, Rated_people, Offered_price_in_rupee, real_rice_in_rupee, Percent_off]\n",
       "Index: []"
      ]
     },
     "execution_count": 8,
     "metadata": {},
     "output_type": "execute_result"
    }
   ],
   "source": [
    "# There are some brand \"Renewed\". These are not true. We should handle them.\n",
    "df[df.phone_name.str.contains(\"Renewed\")]"
   ]
  },
  {
   "cell_type": "code",
   "execution_count": 9,
   "id": "1b1b1b47",
   "metadata": {
    "execution": {
     "iopub.execute_input": "2022-08-26T08:55:22.510052Z",
     "iopub.status.busy": "2022-08-26T08:55:22.509663Z",
     "iopub.status.idle": "2022-08-26T08:55:22.526677Z",
     "shell.execute_reply": "2022-08-26T08:55:22.525621Z"
    },
    "papermill": {
     "duration": 0.033343,
     "end_time": "2022-08-26T08:55:22.528911",
     "exception": false,
     "start_time": "2022-08-26T08:55:22.495568",
     "status": "completed"
    },
    "tags": []
   },
   "outputs": [
    {
     "data": {
      "text/html": [
       "<div>\n",
       "<style scoped>\n",
       "    .dataframe tbody tr th:only-of-type {\n",
       "        vertical-align: middle;\n",
       "    }\n",
       "\n",
       "    .dataframe tbody tr th {\n",
       "        vertical-align: top;\n",
       "    }\n",
       "\n",
       "    .dataframe thead th {\n",
       "        text-align: right;\n",
       "    }\n",
       "</style>\n",
       "<table border=\"1\" class=\"dataframe\">\n",
       "  <thead>\n",
       "    <tr style=\"text-align: right;\">\n",
       "      <th></th>\n",
       "      <th>phone_name</th>\n",
       "      <th>Unnamed: 1</th>\n",
       "      <th>Brand</th>\n",
       "      <th>ratting_out_of_five</th>\n",
       "      <th>Rated_people</th>\n",
       "      <th>Offered_price_in_rupee</th>\n",
       "      <th>real_rice_in_rupee</th>\n",
       "      <th>Percent_off</th>\n",
       "    </tr>\n",
       "  </thead>\n",
       "  <tbody>\n",
       "  </tbody>\n",
       "</table>\n",
       "</div>"
      ],
      "text/plain": [
       "Empty DataFrame\n",
       "Columns: [phone_name, Unnamed: 1, Brand, ratting_out_of_five, Rated_people, Offered_price_in_rupee, real_rice_in_rupee, Percent_off]\n",
       "Index: []"
      ]
     },
     "execution_count": 9,
     "metadata": {},
     "output_type": "execute_result"
    }
   ],
   "source": [
    "# Drop Renewed word from Phone Name\n",
    "df[\"phone_name\"]=df[\"phone_name\"].apply(lambda x: x.replace(\"(RENEWED) \",\"\"))\n",
    "df[df.phone_name.str.contains(\"RENEWED\")]\n",
    "\n",
    "# Drop Renewed word from Brand\n",
    "df[\"Brand\"]=df[\"Brand\"].apply(lambda x: x.replace(\"(RENEWED) \",\"\"))\n",
    "df[\"Brand\"]=df[\"Brand\"].apply(lambda x: x.replace(\"(RENEWED\",\"\"))\n",
    "\n",
    "df[df.Brand.str.contains(\"RENEWED\")]"
   ]
  },
  {
   "cell_type": "code",
   "execution_count": 10,
   "id": "0cd9a503",
   "metadata": {
    "execution": {
     "iopub.execute_input": "2022-08-26T08:55:22.557083Z",
     "iopub.status.busy": "2022-08-26T08:55:22.556266Z",
     "iopub.status.idle": "2022-08-26T08:55:22.564874Z",
     "shell.execute_reply": "2022-08-26T08:55:22.563720Z"
    },
    "papermill": {
     "duration": 0.025192,
     "end_time": "2022-08-26T08:55:22.567138",
     "exception": false,
     "start_time": "2022-08-26T08:55:22.541946",
     "status": "completed"
    },
    "tags": []
   },
   "outputs": [],
   "source": [
    "#We deleted Renewed Brand Names, Now they are \"\"\n",
    "# We should replace Brand Names by getting brand info from phone_name\n",
    "df.loc[df.Brand==\"\",\"Brand\"]=df[df.Brand==\"\"].phone_name.str.split(\" \").str[0]"
   ]
  },
  {
   "cell_type": "code",
   "execution_count": 11,
   "id": "39f07c6e",
   "metadata": {
    "execution": {
     "iopub.execute_input": "2022-08-26T08:55:22.595127Z",
     "iopub.status.busy": "2022-08-26T08:55:22.594382Z",
     "iopub.status.idle": "2022-08-26T08:55:22.603445Z",
     "shell.execute_reply": "2022-08-26T08:55:22.602487Z"
    },
    "papermill": {
     "duration": 0.025287,
     "end_time": "2022-08-26T08:55:22.605590",
     "exception": false,
     "start_time": "2022-08-26T08:55:22.580303",
     "status": "completed"
    },
    "tags": []
   },
   "outputs": [
    {
     "data": {
      "text/plain": [
       "SAMSUNG         66\n",
       "REDMI           61\n",
       "I KALL          46\n",
       "NOKIA           37\n",
       "REALME          21\n",
       "TECNO           19\n",
       "OPPO            15\n",
       "IQOO            14\n",
       "ONEPLUS         13\n",
       "VIVO            10\n",
       "LAVA             8\n",
       "MOTOROLA         6\n",
       "JIO              6\n",
       "XIAOMI           4\n",
       "ITEL             4\n",
       "NUVECK           3\n",
       "POCO             3\n",
       "APPLE            3\n",
       "BB               3\n",
       "MICROMAX         3\n",
       "MI               2\n",
       "REALME C         2\n",
       "INFINIX          2\n",
       "ALCATEL          1\n",
       "GT               1\n",
       "KECHAODA         1\n",
       "K460             1\n",
       "APPIE            1\n",
       "NILLKIN          1\n",
       "GOOGLE           1\n",
       "MOTO             1\n",
       "DO               1\n",
       "PANASONIC        1\n",
       "SHIVANSH         1\n",
       "TECNO SPARK      1\n",
       "SHIVANSH LYF     1\n",
       "INDIA            1\n",
       "Name: Brand, dtype: int64"
      ]
     },
     "execution_count": 11,
     "metadata": {},
     "output_type": "execute_result"
    }
   ],
   "source": [
    "df.Brand.value_counts()\n",
    "# We should delete second words because there are cases like Realme and Realme C , Tecno and Tecno Spark\n",
    "# First words will be enough."
   ]
  },
  {
   "cell_type": "code",
   "execution_count": 12,
   "id": "a3ea11c1",
   "metadata": {
    "execution": {
     "iopub.execute_input": "2022-08-26T08:55:22.633892Z",
     "iopub.status.busy": "2022-08-26T08:55:22.633224Z",
     "iopub.status.idle": "2022-08-26T08:55:22.642538Z",
     "shell.execute_reply": "2022-08-26T08:55:22.641055Z"
    },
    "papermill": {
     "duration": 0.025883,
     "end_time": "2022-08-26T08:55:22.644695",
     "exception": false,
     "start_time": "2022-08-26T08:55:22.618812",
     "status": "completed"
    },
    "tags": []
   },
   "outputs": [],
   "source": [
    "df[\"Brand\"]=df[\"Brand\"].apply(lambda x: x.replace(\"TECNO SPARK\",\"TECNO\"))\n",
    "df[\"Brand\"]=df[\"Brand\"].apply(lambda x: x.replace(\"REALME C\",\"REALME\"))\n",
    "df[\"Brand\"]=df[\"Brand\"].apply(lambda x: x.replace(\"SHIVANSH LYF\",\"SHIVANSH\"))"
   ]
  },
  {
   "cell_type": "code",
   "execution_count": 13,
   "id": "7bc79015",
   "metadata": {
    "execution": {
     "iopub.execute_input": "2022-08-26T08:55:22.673284Z",
     "iopub.status.busy": "2022-08-26T08:55:22.672882Z",
     "iopub.status.idle": "2022-08-26T08:55:22.681358Z",
     "shell.execute_reply": "2022-08-26T08:55:22.680277Z"
    },
    "papermill": {
     "duration": 0.025412,
     "end_time": "2022-08-26T08:55:22.683665",
     "exception": false,
     "start_time": "2022-08-26T08:55:22.658253",
     "status": "completed"
    },
    "tags": []
   },
   "outputs": [
    {
     "data": {
      "text/plain": [
       "0      SAMSUNG GALAXY S20 FE 5G (CLOUD NAVY, 8GB RAM,...\n",
       "1      SAMSUNG GALAXY M32 (LIGHT BLUE, 4GB RAM, 64GB ...\n",
       "2      REDMI 9A SPORT (CORAL GREEN, 2GB RAM, 32GB STO...\n",
       "3      I KALL Z4 SMARTPHONE (5.5 INCH DISPLAY, 4GB, 3...\n",
       "4      REDMI 9A SPORT (CARBON BLACK, 2GB RAM, 32GB ST...\n",
       "                             ...                        \n",
       "360    IQOO VIVO Z6 PRO 5G (PHANTOM DUSK, 12GB RAM, 2...\n",
       "361    REALME NARZO 30 5G (RACING BLUE, 6GB RAM, 128G...\n",
       "362    XIAOMI 11I 5G (PURPLE MIST, 6GB RAM, 128GB STO...\n",
       "363               NOKIA 6.1 PLUS TA-1083 DS (BLUE, 64GB)\n",
       "364    NOKIA G21 ANDROID SMARTPHONE, DUAL SIM, 3-DAY ...\n",
       "Name: phone_name, Length: 365, dtype: object"
      ]
     },
     "execution_count": 13,
     "metadata": {},
     "output_type": "execute_result"
    }
   ],
   "source": [
    "### WE should seperate properties into a new column. I will check it out how to do that in well shape.\n",
    "df.phone_name"
   ]
  },
  {
   "cell_type": "code",
   "execution_count": 14,
   "id": "bfdfa2f9",
   "metadata": {
    "_kg_hide-output": true,
    "execution": {
     "iopub.execute_input": "2022-08-26T08:55:22.712212Z",
     "iopub.status.busy": "2022-08-26T08:55:22.711802Z",
     "iopub.status.idle": "2022-08-26T08:55:22.718125Z",
     "shell.execute_reply": "2022-08-26T08:55:22.716846Z"
    },
    "papermill": {
     "duration": 0.023104,
     "end_time": "2022-08-26T08:55:22.720286",
     "exception": false,
     "start_time": "2022-08-26T08:55:22.697182",
     "status": "completed"
    },
    "tags": []
   },
   "outputs": [],
   "source": [
    "# Drop unnecessary columns \"Unnamed: 1\"\n",
    "df.drop(labels=\"Unnamed: 1\",axis=1,inplace=True)"
   ]
  },
  {
   "cell_type": "code",
   "execution_count": 15,
   "id": "5bc95f18",
   "metadata": {
    "execution": {
     "iopub.execute_input": "2022-08-26T08:55:22.750079Z",
     "iopub.status.busy": "2022-08-26T08:55:22.749694Z",
     "iopub.status.idle": "2022-08-26T08:55:22.765254Z",
     "shell.execute_reply": "2022-08-26T08:55:22.763930Z"
    },
    "papermill": {
     "duration": 0.033059,
     "end_time": "2022-08-26T08:55:22.767456",
     "exception": false,
     "start_time": "2022-08-26T08:55:22.734397",
     "status": "completed"
    },
    "tags": []
   },
   "outputs": [
    {
     "data": {
      "text/html": [
       "<div>\n",
       "<style scoped>\n",
       "    .dataframe tbody tr th:only-of-type {\n",
       "        vertical-align: middle;\n",
       "    }\n",
       "\n",
       "    .dataframe tbody tr th {\n",
       "        vertical-align: top;\n",
       "    }\n",
       "\n",
       "    .dataframe thead th {\n",
       "        text-align: right;\n",
       "    }\n",
       "</style>\n",
       "<table border=\"1\" class=\"dataframe\">\n",
       "  <thead>\n",
       "    <tr style=\"text-align: right;\">\n",
       "      <th></th>\n",
       "      <th>phone_name</th>\n",
       "      <th>Brand</th>\n",
       "      <th>ratting_out_of_five</th>\n",
       "      <th>Rated_people</th>\n",
       "      <th>Offered_price_in_rupee</th>\n",
       "      <th>real_rice_in_rupee</th>\n",
       "      <th>Percent_off</th>\n",
       "    </tr>\n",
       "  </thead>\n",
       "  <tbody>\n",
       "    <tr>\n",
       "      <th>0</th>\n",
       "      <td>SAMSUNG GALAXY S20 FE 5G (CLOUD NAVY, 8GB RAM,...</td>\n",
       "      <td>SAMSUNG</td>\n",
       "      <td>4.4</td>\n",
       "      <td>17,194</td>\n",
       "      <td>39,990</td>\n",
       "      <td>74999.0</td>\n",
       "      <td>47.0</td>\n",
       "    </tr>\n",
       "    <tr>\n",
       "      <th>1</th>\n",
       "      <td>SAMSUNG GALAXY M32 (LIGHT BLUE, 4GB RAM, 64GB ...</td>\n",
       "      <td>SAMSUNG</td>\n",
       "      <td>4.1</td>\n",
       "      <td>44,417</td>\n",
       "      <td>14,999</td>\n",
       "      <td>16999.0</td>\n",
       "      <td>12.0</td>\n",
       "    </tr>\n",
       "    <tr>\n",
       "      <th>2</th>\n",
       "      <td>REDMI 9A SPORT (CORAL GREEN, 2GB RAM, 32GB STO...</td>\n",
       "      <td>REDMI</td>\n",
       "      <td>4.2</td>\n",
       "      <td>178,833</td>\n",
       "      <td>6,999</td>\n",
       "      <td>8499.0</td>\n",
       "      <td>18.0</td>\n",
       "    </tr>\n",
       "  </tbody>\n",
       "</table>\n",
       "</div>"
      ],
      "text/plain": [
       "                                          phone_name    Brand  \\\n",
       "0  SAMSUNG GALAXY S20 FE 5G (CLOUD NAVY, 8GB RAM,...  SAMSUNG   \n",
       "1  SAMSUNG GALAXY M32 (LIGHT BLUE, 4GB RAM, 64GB ...  SAMSUNG   \n",
       "2  REDMI 9A SPORT (CORAL GREEN, 2GB RAM, 32GB STO...    REDMI   \n",
       "\n",
       "   ratting_out_of_five Rated_people Offered_price_in_rupee  \\\n",
       "0                  4.4       17,194                 39,990   \n",
       "1                  4.1       44,417                 14,999   \n",
       "2                  4.2      178,833                  6,999   \n",
       "\n",
       "   real_rice_in_rupee  Percent_off  \n",
       "0             74999.0         47.0  \n",
       "1             16999.0         12.0  \n",
       "2              8499.0         18.0  "
      ]
     },
     "execution_count": 15,
     "metadata": {},
     "output_type": "execute_result"
    }
   ],
   "source": [
    "df.head(3)"
   ]
  },
  {
   "cell_type": "markdown",
   "id": "75dc0d28",
   "metadata": {
    "papermill": {
     "duration": 0.0135,
     "end_time": "2022-08-26T08:55:22.794637",
     "exception": false,
     "start_time": "2022-08-26T08:55:22.781137",
     "status": "completed"
    },
    "tags": []
   },
   "source": [
    "### 3.2. Preprocessing for ratting_out_of_five and rated_people"
   ]
  },
  {
   "cell_type": "code",
   "execution_count": 16,
   "id": "0ee08c1c",
   "metadata": {
    "execution": {
     "iopub.execute_input": "2022-08-26T08:55:22.823330Z",
     "iopub.status.busy": "2022-08-26T08:55:22.822951Z",
     "iopub.status.idle": "2022-08-26T08:55:22.842033Z",
     "shell.execute_reply": "2022-08-26T08:55:22.840950Z"
    },
    "papermill": {
     "duration": 0.036249,
     "end_time": "2022-08-26T08:55:22.844365",
     "exception": false,
     "start_time": "2022-08-26T08:55:22.808116",
     "status": "completed"
    },
    "tags": []
   },
   "outputs": [],
   "source": [
    "# impute rating of phones by their brand average.\n",
    "df['ratting_out_of_five']=df.groupby('Brand')['ratting_out_of_five'].apply(lambda x:x.fillna(x.mean()))"
   ]
  },
  {
   "cell_type": "code",
   "execution_count": 17,
   "id": "f6cb94de",
   "metadata": {
    "execution": {
     "iopub.execute_input": "2022-08-26T08:55:22.873568Z",
     "iopub.status.busy": "2022-08-26T08:55:22.873124Z",
     "iopub.status.idle": "2022-08-26T08:55:22.891284Z",
     "shell.execute_reply": "2022-08-26T08:55:22.890523Z"
    },
    "papermill": {
     "duration": 0.035089,
     "end_time": "2022-08-26T08:55:22.893265",
     "exception": false,
     "start_time": "2022-08-26T08:55:22.858176",
     "status": "completed"
    },
    "tags": []
   },
   "outputs": [
    {
     "data": {
      "text/html": [
       "<div>\n",
       "<style scoped>\n",
       "    .dataframe tbody tr th:only-of-type {\n",
       "        vertical-align: middle;\n",
       "    }\n",
       "\n",
       "    .dataframe tbody tr th {\n",
       "        vertical-align: top;\n",
       "    }\n",
       "\n",
       "    .dataframe thead th {\n",
       "        text-align: right;\n",
       "    }\n",
       "</style>\n",
       "<table border=\"1\" class=\"dataframe\">\n",
       "  <thead>\n",
       "    <tr style=\"text-align: right;\">\n",
       "      <th></th>\n",
       "      <th>phone_name</th>\n",
       "      <th>Brand</th>\n",
       "      <th>ratting_out_of_five</th>\n",
       "      <th>Rated_people</th>\n",
       "      <th>Offered_price_in_rupee</th>\n",
       "      <th>real_rice_in_rupee</th>\n",
       "      <th>Percent_off</th>\n",
       "    </tr>\n",
       "  </thead>\n",
       "  <tbody>\n",
       "    <tr>\n",
       "      <th>41</th>\n",
       "      <td>SHIVANSH LYF C451 (, 8 GB) (1 GB RAM) COLOR AS...</td>\n",
       "      <td>SHIVANSH</td>\n",
       "      <td>NaN</td>\n",
       "      <td>NaN</td>\n",
       "      <td>3,350</td>\n",
       "      <td>8990.0</td>\n",
       "      <td>63.0</td>\n",
       "    </tr>\n",
       "    <tr>\n",
       "      <th>58</th>\n",
       "      <td>NUVECK KARBONN AURA POWER 4G+ (CHAMPAGNE, 8 GB...</td>\n",
       "      <td>NUVECK</td>\n",
       "      <td>NaN</td>\n",
       "      <td>NaN</td>\n",
       "      <td>3,600</td>\n",
       "      <td>7999.0</td>\n",
       "      <td>55.0</td>\n",
       "    </tr>\n",
       "    <tr>\n",
       "      <th>195</th>\n",
       "      <td>BB Z10 COMPATIBLE WITH BLACKBERRY WITH 8 MP CA...</td>\n",
       "      <td>BB</td>\n",
       "      <td>NaN</td>\n",
       "      <td>NaN</td>\n",
       "      <td>6,599</td>\n",
       "      <td>12999.0</td>\n",
       "      <td>49.0</td>\n",
       "    </tr>\n",
       "    <tr>\n",
       "      <th>212</th>\n",
       "      <td>BB BOLD 9780 COMPATIBLE WITH BLACKBERRY WITH 5...</td>\n",
       "      <td>BB</td>\n",
       "      <td>NaN</td>\n",
       "      <td>NaN</td>\n",
       "      <td>6,299</td>\n",
       "      <td>12999.0</td>\n",
       "      <td>52.0</td>\n",
       "    </tr>\n",
       "    <tr>\n",
       "      <th>224</th>\n",
       "      <td>SHIVANSH MICROMAX CANVAS TABBY P469 FAMILY TAB...</td>\n",
       "      <td>SHIVANSH</td>\n",
       "      <td>NaN</td>\n",
       "      <td>NaN</td>\n",
       "      <td>3,490</td>\n",
       "      <td>5990.0</td>\n",
       "      <td>42.0</td>\n",
       "    </tr>\n",
       "    <tr>\n",
       "      <th>242</th>\n",
       "      <td>INFINIX HOT 11 2022 (AURORA GREEN, 4GB RAM 64G...</td>\n",
       "      <td>INFINIX</td>\n",
       "      <td>NaN</td>\n",
       "      <td>NaN</td>\n",
       "      <td>9,799</td>\n",
       "      <td>12999.0</td>\n",
       "      <td>25.0</td>\n",
       "    </tr>\n",
       "    <tr>\n",
       "      <th>267</th>\n",
       "      <td>NUVECK GIONEE A1 LITE (BLACK, 32 GB)  (3 GB RAM)</td>\n",
       "      <td>NUVECK</td>\n",
       "      <td>NaN</td>\n",
       "      <td>Only 2 left in stock.</td>\n",
       "      <td>6,440</td>\n",
       "      <td>6839.0</td>\n",
       "      <td>6.0</td>\n",
       "    </tr>\n",
       "    <tr>\n",
       "      <th>289</th>\n",
       "      <td>NILLKIN CASE FOR XIAOMI POCO M4 PRO 4G (6.43\" ...</td>\n",
       "      <td>NILLKIN</td>\n",
       "      <td>NaN</td>\n",
       "      <td>NaN</td>\n",
       "      <td>1,599</td>\n",
       "      <td>1999.0</td>\n",
       "      <td>20.0</td>\n",
       "    </tr>\n",
       "    <tr>\n",
       "      <th>291</th>\n",
       "      <td>APPIE LPHONE 5S (SPACE GREY, 16GB)</td>\n",
       "      <td>APPIE</td>\n",
       "      <td>NaN</td>\n",
       "      <td>NaN</td>\n",
       "      <td>13,599</td>\n",
       "      <td>24999.0</td>\n",
       "      <td>46.0</td>\n",
       "    </tr>\n",
       "    <tr>\n",
       "      <th>292</th>\n",
       "      <td>BB BOLD 9700 COMPATIBLE WITH BLACKBERRY WITH 3...</td>\n",
       "      <td>BB</td>\n",
       "      <td>NaN</td>\n",
       "      <td>Only 2 left in stock.</td>\n",
       "      <td>6,299</td>\n",
       "      <td>12999.0</td>\n",
       "      <td>52.0</td>\n",
       "    </tr>\n",
       "    <tr>\n",
       "      <th>309</th>\n",
       "      <td>K460 SMARTPHONE (5.5 INCH DISPLAY, 3GB, 16GB) ...</td>\n",
       "      <td>K460</td>\n",
       "      <td>NaN</td>\n",
       "      <td>NaN</td>\n",
       "      <td>6,000</td>\n",
       "      <td>NaN</td>\n",
       "      <td>NaN</td>\n",
       "    </tr>\n",
       "    <tr>\n",
       "      <th>326</th>\n",
       "      <td>INFINIX HOT 11 2022 (SUNSET GOLD, 4GB RAM 64GB...</td>\n",
       "      <td>INFINIX</td>\n",
       "      <td>NaN</td>\n",
       "      <td>NaN</td>\n",
       "      <td>9,799</td>\n",
       "      <td>12999.0</td>\n",
       "      <td>25.0</td>\n",
       "    </tr>\n",
       "    <tr>\n",
       "      <th>355</th>\n",
       "      <td>NUVECK KARBONN K9 SMART YUVA 4G VOLTE (BLACK &amp;...</td>\n",
       "      <td>NUVECK</td>\n",
       "      <td>NaN</td>\n",
       "      <td>NaN</td>\n",
       "      <td>3,549</td>\n",
       "      <td>4599.0</td>\n",
       "      <td>23.0</td>\n",
       "    </tr>\n",
       "  </tbody>\n",
       "</table>\n",
       "</div>"
      ],
      "text/plain": [
       "                                            phone_name     Brand  \\\n",
       "41   SHIVANSH LYF C451 (, 8 GB) (1 GB RAM) COLOR AS...  SHIVANSH   \n",
       "58   NUVECK KARBONN AURA POWER 4G+ (CHAMPAGNE, 8 GB...    NUVECK   \n",
       "195  BB Z10 COMPATIBLE WITH BLACKBERRY WITH 8 MP CA...        BB   \n",
       "212  BB BOLD 9780 COMPATIBLE WITH BLACKBERRY WITH 5...        BB   \n",
       "224  SHIVANSH MICROMAX CANVAS TABBY P469 FAMILY TAB...  SHIVANSH   \n",
       "242  INFINIX HOT 11 2022 (AURORA GREEN, 4GB RAM 64G...   INFINIX   \n",
       "267   NUVECK GIONEE A1 LITE (BLACK, 32 GB)  (3 GB RAM)    NUVECK   \n",
       "289  NILLKIN CASE FOR XIAOMI POCO M4 PRO 4G (6.43\" ...   NILLKIN   \n",
       "291                 APPIE LPHONE 5S (SPACE GREY, 16GB)     APPIE   \n",
       "292  BB BOLD 9700 COMPATIBLE WITH BLACKBERRY WITH 3...        BB   \n",
       "309  K460 SMARTPHONE (5.5 INCH DISPLAY, 3GB, 16GB) ...      K460   \n",
       "326  INFINIX HOT 11 2022 (SUNSET GOLD, 4GB RAM 64GB...   INFINIX   \n",
       "355  NUVECK KARBONN K9 SMART YUVA 4G VOLTE (BLACK &...    NUVECK   \n",
       "\n",
       "     ratting_out_of_five           Rated_people Offered_price_in_rupee  \\\n",
       "41                   NaN                    NaN                  3,350   \n",
       "58                   NaN                    NaN                  3,600   \n",
       "195                  NaN                    NaN                  6,599   \n",
       "212                  NaN                    NaN                  6,299   \n",
       "224                  NaN                    NaN                  3,490   \n",
       "242                  NaN                    NaN                  9,799   \n",
       "267                  NaN  Only 2 left in stock.                  6,440   \n",
       "289                  NaN                    NaN                  1,599   \n",
       "291                  NaN                    NaN                 13,599   \n",
       "292                  NaN  Only 2 left in stock.                  6,299   \n",
       "309                  NaN                    NaN                  6,000   \n",
       "326                  NaN                    NaN                  9,799   \n",
       "355                  NaN                    NaN                  3,549   \n",
       "\n",
       "     real_rice_in_rupee  Percent_off  \n",
       "41               8990.0         63.0  \n",
       "58               7999.0         55.0  \n",
       "195             12999.0         49.0  \n",
       "212             12999.0         52.0  \n",
       "224              5990.0         42.0  \n",
       "242             12999.0         25.0  \n",
       "267              6839.0          6.0  \n",
       "289              1999.0         20.0  \n",
       "291             24999.0         46.0  \n",
       "292             12999.0         52.0  \n",
       "309                 NaN          NaN  \n",
       "326             12999.0         25.0  \n",
       "355              4599.0         23.0  "
      ]
     },
     "execution_count": 17,
     "metadata": {},
     "output_type": "execute_result"
    }
   ],
   "source": [
    "# after dealing with missing values, there are still some missing values\n",
    "# we can drop them.\n",
    "df.loc[df['ratting_out_of_five'].isnull(),:]"
   ]
  },
  {
   "cell_type": "code",
   "execution_count": 18,
   "id": "817820b6",
   "metadata": {
    "execution": {
     "iopub.execute_input": "2022-08-26T08:55:22.922862Z",
     "iopub.status.busy": "2022-08-26T08:55:22.922474Z",
     "iopub.status.idle": "2022-08-26T08:55:22.930712Z",
     "shell.execute_reply": "2022-08-26T08:55:22.929635Z"
    },
    "papermill": {
     "duration": 0.025522,
     "end_time": "2022-08-26T08:55:22.932747",
     "exception": false,
     "start_time": "2022-08-26T08:55:22.907225",
     "status": "completed"
    },
    "tags": []
   },
   "outputs": [],
   "source": [
    "# drop null values from ratting_out_of_five and Rated_people columns\n",
    "df.dropna(axis=0,subset=[\"ratting_out_of_five\",\"Rated_people\"],inplace=True)"
   ]
  },
  {
   "cell_type": "code",
   "execution_count": 19,
   "id": "5c36ae4b",
   "metadata": {
    "execution": {
     "iopub.execute_input": "2022-08-26T08:55:22.962014Z",
     "iopub.status.busy": "2022-08-26T08:55:22.961648Z",
     "iopub.status.idle": "2022-08-26T08:55:22.970920Z",
     "shell.execute_reply": "2022-08-26T08:55:22.969851Z"
    },
    "papermill": {
     "duration": 0.026699,
     "end_time": "2022-08-26T08:55:22.973188",
     "exception": false,
     "start_time": "2022-08-26T08:55:22.946489",
     "status": "completed"
    },
    "tags": []
   },
   "outputs": [
    {
     "name": "stderr",
     "output_type": "stream",
     "text": [
      "/opt/conda/lib/python3.7/site-packages/ipykernel_launcher.py:4: SettingWithCopyWarning: \n",
      "A value is trying to be set on a copy of a slice from a DataFrame.\n",
      "Try using .loc[row_indexer,col_indexer] = value instead\n",
      "\n",
      "See the caveats in the documentation: https://pandas.pydata.org/pandas-docs/stable/user_guide/indexing.html#returning-a-view-versus-a-copy\n",
      "  after removing the cwd from sys.path.\n"
     ]
    }
   ],
   "source": [
    "# drop commas, drop wrong entry \"Save ₹1500\" and change dtype to int\n",
    "df.loc[:,\"Rated_people\"]=df.loc[:,\"Rated_people\"].apply(lambda x: x.replace(\",\",\"\"))\n",
    "df = df[df[\"Rated_people\"] != \"Save ₹1500\"]\n",
    "df[\"Rated_people\"]=df[\"Rated_people\"].astype(\"int\")"
   ]
  },
  {
   "cell_type": "code",
   "execution_count": 20,
   "id": "f41f6ab9",
   "metadata": {
    "execution": {
     "iopub.execute_input": "2022-08-26T08:55:23.003117Z",
     "iopub.status.busy": "2022-08-26T08:55:23.002372Z",
     "iopub.status.idle": "2022-08-26T08:55:23.022637Z",
     "shell.execute_reply": "2022-08-26T08:55:23.021771Z"
    },
    "papermill": {
     "duration": 0.037568,
     "end_time": "2022-08-26T08:55:23.024789",
     "exception": false,
     "start_time": "2022-08-26T08:55:22.987221",
     "status": "completed"
    },
    "tags": []
   },
   "outputs": [
    {
     "data": {
      "text/html": [
       "<div>\n",
       "<style scoped>\n",
       "    .dataframe tbody tr th:only-of-type {\n",
       "        vertical-align: middle;\n",
       "    }\n",
       "\n",
       "    .dataframe tbody tr th {\n",
       "        vertical-align: top;\n",
       "    }\n",
       "\n",
       "    .dataframe thead th {\n",
       "        text-align: right;\n",
       "    }\n",
       "</style>\n",
       "<table border=\"1\" class=\"dataframe\">\n",
       "  <thead>\n",
       "    <tr style=\"text-align: right;\">\n",
       "      <th></th>\n",
       "      <th>phone_name</th>\n",
       "      <th>Brand</th>\n",
       "      <th>ratting_out_of_five</th>\n",
       "      <th>Rated_people</th>\n",
       "      <th>Offered_price_in_rupee</th>\n",
       "      <th>real_rice_in_rupee</th>\n",
       "      <th>Percent_off</th>\n",
       "    </tr>\n",
       "  </thead>\n",
       "  <tbody>\n",
       "    <tr>\n",
       "      <th>0</th>\n",
       "      <td>SAMSUNG GALAXY S20 FE 5G (CLOUD NAVY, 8GB RAM,...</td>\n",
       "      <td>SAMSUNG</td>\n",
       "      <td>4.4</td>\n",
       "      <td>17194</td>\n",
       "      <td>39,990</td>\n",
       "      <td>74999.0</td>\n",
       "      <td>47.0</td>\n",
       "    </tr>\n",
       "    <tr>\n",
       "      <th>1</th>\n",
       "      <td>SAMSUNG GALAXY M32 (LIGHT BLUE, 4GB RAM, 64GB ...</td>\n",
       "      <td>SAMSUNG</td>\n",
       "      <td>4.1</td>\n",
       "      <td>44417</td>\n",
       "      <td>14,999</td>\n",
       "      <td>16999.0</td>\n",
       "      <td>12.0</td>\n",
       "    </tr>\n",
       "    <tr>\n",
       "      <th>2</th>\n",
       "      <td>REDMI 9A SPORT (CORAL GREEN, 2GB RAM, 32GB STO...</td>\n",
       "      <td>REDMI</td>\n",
       "      <td>4.2</td>\n",
       "      <td>178833</td>\n",
       "      <td>6,999</td>\n",
       "      <td>8499.0</td>\n",
       "      <td>18.0</td>\n",
       "    </tr>\n",
       "    <tr>\n",
       "      <th>4</th>\n",
       "      <td>REDMI 9A SPORT (CARBON BLACK, 2GB RAM, 32GB ST...</td>\n",
       "      <td>REDMI</td>\n",
       "      <td>4.2</td>\n",
       "      <td>178833</td>\n",
       "      <td>6,999</td>\n",
       "      <td>7999.0</td>\n",
       "      <td>13.0</td>\n",
       "    </tr>\n",
       "    <tr>\n",
       "      <th>5</th>\n",
       "      <td>JIO NEXT 32 GB ROM, 2 GB RAM, BLUE SMARTPHONE</td>\n",
       "      <td>JIO</td>\n",
       "      <td>3.6</td>\n",
       "      <td>1071</td>\n",
       "      <td>4,500</td>\n",
       "      <td>7299.0</td>\n",
       "      <td>38.0</td>\n",
       "    </tr>\n",
       "    <tr>\n",
       "      <th>...</th>\n",
       "      <td>...</td>\n",
       "      <td>...</td>\n",
       "      <td>...</td>\n",
       "      <td>...</td>\n",
       "      <td>...</td>\n",
       "      <td>...</td>\n",
       "      <td>...</td>\n",
       "    </tr>\n",
       "    <tr>\n",
       "      <th>360</th>\n",
       "      <td>IQOO VIVO Z6 PRO 5G (PHANTOM DUSK, 12GB RAM, 2...</td>\n",
       "      <td>IQOO</td>\n",
       "      <td>4.2</td>\n",
       "      <td>3291</td>\n",
       "      <td>28,999</td>\n",
       "      <td>33990.0</td>\n",
       "      <td>15.0</td>\n",
       "    </tr>\n",
       "    <tr>\n",
       "      <th>361</th>\n",
       "      <td>REALME NARZO 30 5G (RACING BLUE, 6GB RAM, 128G...</td>\n",
       "      <td>REALME</td>\n",
       "      <td>4.2</td>\n",
       "      <td>2186</td>\n",
       "      <td>16,999</td>\n",
       "      <td>17999.0</td>\n",
       "      <td>6.0</td>\n",
       "    </tr>\n",
       "    <tr>\n",
       "      <th>362</th>\n",
       "      <td>XIAOMI 11I 5G (PURPLE MIST, 6GB RAM, 128GB STO...</td>\n",
       "      <td>XIAOMI</td>\n",
       "      <td>3.7</td>\n",
       "      <td>22</td>\n",
       "      <td>22,990</td>\n",
       "      <td>29999.0</td>\n",
       "      <td>23.0</td>\n",
       "    </tr>\n",
       "    <tr>\n",
       "      <th>363</th>\n",
       "      <td>NOKIA 6.1 PLUS TA-1083 DS (BLUE, 64GB)</td>\n",
       "      <td>NOKIA</td>\n",
       "      <td>3.4</td>\n",
       "      <td>133</td>\n",
       "      <td>16,999</td>\n",
       "      <td>18599.0</td>\n",
       "      <td>8.0</td>\n",
       "    </tr>\n",
       "    <tr>\n",
       "      <th>364</th>\n",
       "      <td>NOKIA G21 ANDROID SMARTPHONE, DUAL SIM, 3-DAY ...</td>\n",
       "      <td>NOKIA</td>\n",
       "      <td>3.0</td>\n",
       "      <td>4</td>\n",
       "      <td>12,499</td>\n",
       "      <td>14499.0</td>\n",
       "      <td>13.0</td>\n",
       "    </tr>\n",
       "  </tbody>\n",
       "</table>\n",
       "<p>334 rows × 7 columns</p>\n",
       "</div>"
      ],
      "text/plain": [
       "                                            phone_name    Brand  \\\n",
       "0    SAMSUNG GALAXY S20 FE 5G (CLOUD NAVY, 8GB RAM,...  SAMSUNG   \n",
       "1    SAMSUNG GALAXY M32 (LIGHT BLUE, 4GB RAM, 64GB ...  SAMSUNG   \n",
       "2    REDMI 9A SPORT (CORAL GREEN, 2GB RAM, 32GB STO...    REDMI   \n",
       "4    REDMI 9A SPORT (CARBON BLACK, 2GB RAM, 32GB ST...    REDMI   \n",
       "5        JIO NEXT 32 GB ROM, 2 GB RAM, BLUE SMARTPHONE      JIO   \n",
       "..                                                 ...      ...   \n",
       "360  IQOO VIVO Z6 PRO 5G (PHANTOM DUSK, 12GB RAM, 2...     IQOO   \n",
       "361  REALME NARZO 30 5G (RACING BLUE, 6GB RAM, 128G...   REALME   \n",
       "362  XIAOMI 11I 5G (PURPLE MIST, 6GB RAM, 128GB STO...   XIAOMI   \n",
       "363             NOKIA 6.1 PLUS TA-1083 DS (BLUE, 64GB)    NOKIA   \n",
       "364  NOKIA G21 ANDROID SMARTPHONE, DUAL SIM, 3-DAY ...    NOKIA   \n",
       "\n",
       "     ratting_out_of_five  Rated_people Offered_price_in_rupee  \\\n",
       "0                    4.4         17194                 39,990   \n",
       "1                    4.1         44417                 14,999   \n",
       "2                    4.2        178833                  6,999   \n",
       "4                    4.2        178833                  6,999   \n",
       "5                    3.6          1071                  4,500   \n",
       "..                   ...           ...                    ...   \n",
       "360                  4.2          3291                 28,999   \n",
       "361                  4.2          2186                 16,999   \n",
       "362                  3.7            22                 22,990   \n",
       "363                  3.4           133                 16,999   \n",
       "364                  3.0             4                 12,499   \n",
       "\n",
       "     real_rice_in_rupee  Percent_off  \n",
       "0               74999.0         47.0  \n",
       "1               16999.0         12.0  \n",
       "2                8499.0         18.0  \n",
       "4                7999.0         13.0  \n",
       "5                7299.0         38.0  \n",
       "..                  ...          ...  \n",
       "360             33990.0         15.0  \n",
       "361             17999.0          6.0  \n",
       "362             29999.0         23.0  \n",
       "363             18599.0          8.0  \n",
       "364             14499.0         13.0  \n",
       "\n",
       "[334 rows x 7 columns]"
      ]
     },
     "execution_count": 20,
     "metadata": {},
     "output_type": "execute_result"
    }
   ],
   "source": [
    "df"
   ]
  },
  {
   "cell_type": "markdown",
   "id": "509568b1",
   "metadata": {
    "papermill": {
     "duration": 0.014062,
     "end_time": "2022-08-26T08:55:23.053142",
     "exception": false,
     "start_time": "2022-08-26T08:55:23.039080",
     "status": "completed"
    },
    "tags": []
   },
   "source": [
    "### 3.3. Preprocessing for offered_price, real_price and percent off"
   ]
  },
  {
   "cell_type": "code",
   "execution_count": 21,
   "id": "2210caf2",
   "metadata": {
    "execution": {
     "iopub.execute_input": "2022-08-26T08:55:23.084005Z",
     "iopub.status.busy": "2022-08-26T08:55:23.082799Z",
     "iopub.status.idle": "2022-08-26T08:55:23.097245Z",
     "shell.execute_reply": "2022-08-26T08:55:23.096047Z"
    },
    "papermill": {
     "duration": 0.032275,
     "end_time": "2022-08-26T08:55:23.099647",
     "exception": false,
     "start_time": "2022-08-26T08:55:23.067372",
     "status": "completed"
    },
    "tags": []
   },
   "outputs": [
    {
     "name": "stdout",
     "output_type": "stream",
     "text": [
      "<class 'pandas.core.frame.DataFrame'>\n",
      "Int64Index: 334 entries, 0 to 364\n",
      "Data columns (total 7 columns):\n",
      " #   Column                  Non-Null Count  Dtype  \n",
      "---  ------                  --------------  -----  \n",
      " 0   phone_name              334 non-null    object \n",
      " 1   Brand                   334 non-null    object \n",
      " 2   ratting_out_of_five     334 non-null    float64\n",
      " 3   Rated_people            334 non-null    int64  \n",
      " 4   Offered_price_in_rupee  324 non-null    object \n",
      " 5   real_rice_in_rupee      315 non-null    float64\n",
      " 6   Percent_off             315 non-null    float64\n",
      "dtypes: float64(3), int64(1), object(3)\n",
      "memory usage: 20.9+ KB\n"
     ]
    }
   ],
   "source": [
    "df.info()"
   ]
  },
  {
   "cell_type": "code",
   "execution_count": 22,
   "id": "c30739e4",
   "metadata": {
    "execution": {
     "iopub.execute_input": "2022-08-26T08:55:23.130175Z",
     "iopub.status.busy": "2022-08-26T08:55:23.129780Z",
     "iopub.status.idle": "2022-08-26T08:55:23.141864Z",
     "shell.execute_reply": "2022-08-26T08:55:23.140656Z"
    },
    "papermill": {
     "duration": 0.029922,
     "end_time": "2022-08-26T08:55:23.144101",
     "exception": false,
     "start_time": "2022-08-26T08:55:23.114179",
     "status": "completed"
    },
    "tags": []
   },
   "outputs": [
    {
     "name": "stderr",
     "output_type": "stream",
     "text": [
      "/opt/conda/lib/python3.7/site-packages/pandas/core/indexing.py:1773: SettingWithCopyWarning: \n",
      "A value is trying to be set on a copy of a slice from a DataFrame.\n",
      "Try using .loc[row_indexer,col_indexer] = value instead\n",
      "\n",
      "See the caveats in the documentation: https://pandas.pydata.org/pandas-docs/stable/user_guide/indexing.html#returning-a-view-versus-a-copy\n",
      "  self._setitem_single_column(ilocs[0], value, pi)\n"
     ]
    }
   ],
   "source": [
    "# drop commas and change dtype to float\n",
    "df.loc[:,\"Offered_price_in_rupee\"]=df.loc[:,\"Offered_price_in_rupee\"].str.replace(\",\",\"\")\n",
    "df.loc[:,\"Offered_price_in_rupee\"]=df.loc[:,\"Offered_price_in_rupee\"].astype(\"float\")\n"
   ]
  },
  {
   "cell_type": "code",
   "execution_count": 23,
   "id": "80362f35",
   "metadata": {
    "execution": {
     "iopub.execute_input": "2022-08-26T08:55:23.175379Z",
     "iopub.status.busy": "2022-08-26T08:55:23.174541Z",
     "iopub.status.idle": "2022-08-26T08:55:23.185910Z",
     "shell.execute_reply": "2022-08-26T08:55:23.184468Z"
    },
    "papermill": {
     "duration": 0.029523,
     "end_time": "2022-08-26T08:55:23.188260",
     "exception": false,
     "start_time": "2022-08-26T08:55:23.158737",
     "status": "completed"
    },
    "tags": []
   },
   "outputs": [
    {
     "name": "stderr",
     "output_type": "stream",
     "text": [
      "/opt/conda/lib/python3.7/site-packages/pandas/util/_decorators.py:311: SettingWithCopyWarning: \n",
      "A value is trying to be set on a copy of a slice from a DataFrame\n",
      "\n",
      "See the caveats in the documentation: https://pandas.pydata.org/pandas-docs/stable/user_guide/indexing.html#returning-a-view-versus-a-copy\n",
      "  return func(*args, **kwargs)\n"
     ]
    }
   ],
   "source": [
    "# There are 10 missing values in offered_price_in_rupee and 20 for real_price_in_rupee \n",
    "# Lets delete them\n",
    "\n",
    "df.dropna(axis=0,subset=[\"Offered_price_in_rupee\",\"real_rice_in_rupee\",\"Percent_off\"],inplace=True)"
   ]
  },
  {
   "cell_type": "markdown",
   "id": "161191d3",
   "metadata": {
    "execution": {
     "iopub.execute_input": "2022-08-24T13:53:32.535680Z",
     "iopub.status.busy": "2022-08-24T13:53:32.535331Z",
     "iopub.status.idle": "2022-08-24T13:53:32.539073Z",
     "shell.execute_reply": "2022-08-24T13:53:32.538510Z",
     "shell.execute_reply.started": "2022-08-24T13:53:32.535655Z"
    },
    "papermill": {
     "duration": 0.014288,
     "end_time": "2022-08-26T08:55:23.217264",
     "exception": false,
     "start_time": "2022-08-26T08:55:23.202976",
     "status": "completed"
    },
    "tags": []
   },
   "source": [
    "# 4. Exploratory Data Analysis"
   ]
  },
  {
   "cell_type": "code",
   "execution_count": 24,
   "id": "59bbbb46",
   "metadata": {
    "execution": {
     "iopub.execute_input": "2022-08-26T08:55:23.248679Z",
     "iopub.status.busy": "2022-08-26T08:55:23.248277Z",
     "iopub.status.idle": "2022-08-26T08:55:23.261889Z",
     "shell.execute_reply": "2022-08-26T08:55:23.260535Z"
    },
    "papermill": {
     "duration": 0.031969,
     "end_time": "2022-08-26T08:55:23.264112",
     "exception": false,
     "start_time": "2022-08-26T08:55:23.232143",
     "status": "completed"
    },
    "tags": []
   },
   "outputs": [
    {
     "name": "stdout",
     "output_type": "stream",
     "text": [
      "<class 'pandas.core.frame.DataFrame'>\n",
      "Int64Index: 315 entries, 0 to 364\n",
      "Data columns (total 7 columns):\n",
      " #   Column                  Non-Null Count  Dtype  \n",
      "---  ------                  --------------  -----  \n",
      " 0   phone_name              315 non-null    object \n",
      " 1   Brand                   315 non-null    object \n",
      " 2   ratting_out_of_five     315 non-null    float64\n",
      " 3   Rated_people            315 non-null    int64  \n",
      " 4   Offered_price_in_rupee  315 non-null    float64\n",
      " 5   real_rice_in_rupee      315 non-null    float64\n",
      " 6   Percent_off             315 non-null    float64\n",
      "dtypes: float64(4), int64(1), object(2)\n",
      "memory usage: 19.7+ KB\n"
     ]
    }
   ],
   "source": [
    "# Now we do not have any missing values and all the data types seem OK.\n",
    "df.info()"
   ]
  },
  {
   "cell_type": "code",
   "execution_count": 25,
   "id": "539b593f",
   "metadata": {
    "execution": {
     "iopub.execute_input": "2022-08-26T08:55:23.295726Z",
     "iopub.status.busy": "2022-08-26T08:55:23.295263Z",
     "iopub.status.idle": "2022-08-26T08:55:23.328985Z",
     "shell.execute_reply": "2022-08-26T08:55:23.327761Z"
    },
    "papermill": {
     "duration": 0.052407,
     "end_time": "2022-08-26T08:55:23.331420",
     "exception": false,
     "start_time": "2022-08-26T08:55:23.279013",
     "status": "completed"
    },
    "tags": []
   },
   "outputs": [
    {
     "data": {
      "text/html": [
       "<div>\n",
       "<style scoped>\n",
       "    .dataframe tbody tr th:only-of-type {\n",
       "        vertical-align: middle;\n",
       "    }\n",
       "\n",
       "    .dataframe tbody tr th {\n",
       "        vertical-align: top;\n",
       "    }\n",
       "\n",
       "    .dataframe thead th {\n",
       "        text-align: right;\n",
       "    }\n",
       "</style>\n",
       "<table border=\"1\" class=\"dataframe\">\n",
       "  <thead>\n",
       "    <tr style=\"text-align: right;\">\n",
       "      <th></th>\n",
       "      <th>phone_name</th>\n",
       "      <th>Brand</th>\n",
       "      <th>ratting_out_of_five</th>\n",
       "      <th>Rated_people</th>\n",
       "      <th>Offered_price_in_rupee</th>\n",
       "      <th>real_rice_in_rupee</th>\n",
       "      <th>Percent_off</th>\n",
       "    </tr>\n",
       "  </thead>\n",
       "  <tbody>\n",
       "    <tr>\n",
       "      <th>count</th>\n",
       "      <td>315</td>\n",
       "      <td>315</td>\n",
       "      <td>315.000000</td>\n",
       "      <td>315.000000</td>\n",
       "      <td>315.000000</td>\n",
       "      <td>315.000000</td>\n",
       "      <td>315.000000</td>\n",
       "    </tr>\n",
       "    <tr>\n",
       "      <th>unique</th>\n",
       "      <td>270</td>\n",
       "      <td>26</td>\n",
       "      <td>NaN</td>\n",
       "      <td>NaN</td>\n",
       "      <td>NaN</td>\n",
       "      <td>NaN</td>\n",
       "      <td>NaN</td>\n",
       "    </tr>\n",
       "    <tr>\n",
       "      <th>top</th>\n",
       "      <td>SAMSUNG GALAXY S20 FE 5G (CLOUD NAVY, 8GB RAM,...</td>\n",
       "      <td>SAMSUNG</td>\n",
       "      <td>NaN</td>\n",
       "      <td>NaN</td>\n",
       "      <td>NaN</td>\n",
       "      <td>NaN</td>\n",
       "      <td>NaN</td>\n",
       "    </tr>\n",
       "    <tr>\n",
       "      <th>freq</th>\n",
       "      <td>2</td>\n",
       "      <td>64</td>\n",
       "      <td>NaN</td>\n",
       "      <td>NaN</td>\n",
       "      <td>NaN</td>\n",
       "      <td>NaN</td>\n",
       "      <td>NaN</td>\n",
       "    </tr>\n",
       "    <tr>\n",
       "      <th>mean</th>\n",
       "      <td>NaN</td>\n",
       "      <td>NaN</td>\n",
       "      <td>3.871429</td>\n",
       "      <td>26704.685714</td>\n",
       "      <td>14161.241270</td>\n",
       "      <td>18409.784127</td>\n",
       "      <td>21.876190</td>\n",
       "    </tr>\n",
       "    <tr>\n",
       "      <th>std</th>\n",
       "      <td>NaN</td>\n",
       "      <td>NaN</td>\n",
       "      <td>0.638127</td>\n",
       "      <td>53106.350942</td>\n",
       "      <td>10229.965068</td>\n",
       "      <td>13924.728486</td>\n",
       "      <td>9.127576</td>\n",
       "    </tr>\n",
       "    <tr>\n",
       "      <th>min</th>\n",
       "      <td>NaN</td>\n",
       "      <td>NaN</td>\n",
       "      <td>1.000000</td>\n",
       "      <td>1.000000</td>\n",
       "      <td>1112.000000</td>\n",
       "      <td>1399.000000</td>\n",
       "      <td>6.000000</td>\n",
       "    </tr>\n",
       "    <tr>\n",
       "      <th>25%</th>\n",
       "      <td>NaN</td>\n",
       "      <td>NaN</td>\n",
       "      <td>3.700000</td>\n",
       "      <td>36.500000</td>\n",
       "      <td>7499.000000</td>\n",
       "      <td>9999.000000</td>\n",
       "      <td>15.000000</td>\n",
       "    </tr>\n",
       "    <tr>\n",
       "      <th>50%</th>\n",
       "      <td>NaN</td>\n",
       "      <td>NaN</td>\n",
       "      <td>4.100000</td>\n",
       "      <td>2186.000000</td>\n",
       "      <td>11999.000000</td>\n",
       "      <td>14999.000000</td>\n",
       "      <td>21.000000</td>\n",
       "    </tr>\n",
       "    <tr>\n",
       "      <th>75%</th>\n",
       "      <td>NaN</td>\n",
       "      <td>NaN</td>\n",
       "      <td>4.200000</td>\n",
       "      <td>17194.000000</td>\n",
       "      <td>16999.000000</td>\n",
       "      <td>20999.000000</td>\n",
       "      <td>27.500000</td>\n",
       "    </tr>\n",
       "    <tr>\n",
       "      <th>max</th>\n",
       "      <td>NaN</td>\n",
       "      <td>NaN</td>\n",
       "      <td>5.000000</td>\n",
       "      <td>223112.000000</td>\n",
       "      <td>68900.000000</td>\n",
       "      <td>89999.000000</td>\n",
       "      <td>79.000000</td>\n",
       "    </tr>\n",
       "  </tbody>\n",
       "</table>\n",
       "</div>"
      ],
      "text/plain": [
       "                                               phone_name    Brand  \\\n",
       "count                                                 315      315   \n",
       "unique                                                270       26   \n",
       "top     SAMSUNG GALAXY S20 FE 5G (CLOUD NAVY, 8GB RAM,...  SAMSUNG   \n",
       "freq                                                    2       64   \n",
       "mean                                                  NaN      NaN   \n",
       "std                                                   NaN      NaN   \n",
       "min                                                   NaN      NaN   \n",
       "25%                                                   NaN      NaN   \n",
       "50%                                                   NaN      NaN   \n",
       "75%                                                   NaN      NaN   \n",
       "max                                                   NaN      NaN   \n",
       "\n",
       "        ratting_out_of_five   Rated_people  Offered_price_in_rupee  \\\n",
       "count            315.000000     315.000000              315.000000   \n",
       "unique                  NaN            NaN                     NaN   \n",
       "top                     NaN            NaN                     NaN   \n",
       "freq                    NaN            NaN                     NaN   \n",
       "mean               3.871429   26704.685714            14161.241270   \n",
       "std                0.638127   53106.350942            10229.965068   \n",
       "min                1.000000       1.000000             1112.000000   \n",
       "25%                3.700000      36.500000             7499.000000   \n",
       "50%                4.100000    2186.000000            11999.000000   \n",
       "75%                4.200000   17194.000000            16999.000000   \n",
       "max                5.000000  223112.000000            68900.000000   \n",
       "\n",
       "        real_rice_in_rupee  Percent_off  \n",
       "count           315.000000   315.000000  \n",
       "unique                 NaN          NaN  \n",
       "top                    NaN          NaN  \n",
       "freq                   NaN          NaN  \n",
       "mean          18409.784127    21.876190  \n",
       "std           13924.728486     9.127576  \n",
       "min            1399.000000     6.000000  \n",
       "25%            9999.000000    15.000000  \n",
       "50%           14999.000000    21.000000  \n",
       "75%           20999.000000    27.500000  \n",
       "max           89999.000000    79.000000  "
      ]
     },
     "execution_count": 25,
     "metadata": {},
     "output_type": "execute_result"
    }
   ],
   "source": [
    "df.describe(include='all')"
   ]
  },
  {
   "cell_type": "markdown",
   "id": "a0021f36",
   "metadata": {
    "papermill": {
     "duration": 0.014933,
     "end_time": "2022-08-26T08:55:23.361825",
     "exception": false,
     "start_time": "2022-08-26T08:55:23.346892",
     "status": "completed"
    },
    "tags": []
   },
   "source": [
    "### 4.1. Brands vs Ratings"
   ]
  },
  {
   "cell_type": "code",
   "execution_count": 26,
   "id": "a399ef3b",
   "metadata": {
    "execution": {
     "iopub.execute_input": "2022-08-26T08:55:23.394993Z",
     "iopub.status.busy": "2022-08-26T08:55:23.393736Z",
     "iopub.status.idle": "2022-08-26T08:55:23.763818Z",
     "shell.execute_reply": "2022-08-26T08:55:23.762956Z"
    },
    "papermill": {
     "duration": 0.389142,
     "end_time": "2022-08-26T08:55:23.766121",
     "exception": false,
     "start_time": "2022-08-26T08:55:23.376979",
     "status": "completed"
    },
    "tags": []
   },
   "outputs": [
    {
     "data": {
      "text/plain": [
       "Text(0.5, 1.0, 'Brand name vs Mean Rating')"
      ]
     },
     "execution_count": 26,
     "metadata": {},
     "output_type": "execute_result"
    },
    {
     "data": {
      "image/png": "[encoded data removed]",
      "text/plain": [
       "<Figure size 1080x288 with 2 Axes>"
      ]
     },
     "metadata": {
      "needs_background": "light"
     },
     "output_type": "display_data"
    }
   ],
   "source": [
    "brand_rating=df.groupby(\"Brand\").aggregate({\"ratting_out_of_five\":\"mean\"}).sort_values(by=\"ratting_out_of_five\",ascending=False).reset_index()\n",
    "plt.figure(figsize=(15,4))\n",
    "plt.ylim(0,5)\n",
    "plt.subplot(1,2,1)\n",
    "sns.barplot(data=brand_rating.head(5),x=\"Brand\",y=\"ratting_out_of_five\")\n",
    "plt.title(\"Brand name vs Mean Rating\")\n",
    "\n",
    "plt.subplot(1,2,2)\n",
    "plt.ylim(0,5)\n",
    "sns.barplot(data=brand_rating.tail(5),x=\"Brand\",y=\"ratting_out_of_five\",)\n",
    "plt.title(\"Brand name vs Mean Rating\")\n"
   ]
  },
  {
   "cell_type": "markdown",
   "id": "2dda8e08",
   "metadata": {
    "papermill": {
     "duration": 0.015348,
     "end_time": "2022-08-26T08:55:23.797049",
     "exception": false,
     "start_time": "2022-08-26T08:55:23.781701",
     "status": "completed"
    },
    "tags": []
   },
   "source": [
    "***\n",
    "* The most upvoted Brands are India, Apple and GT Brand\n",
    "* The least upvoted Brands are Do, Panasonic and Micromax\n",
    "\n",
    "***"
   ]
  },
  {
   "cell_type": "code",
   "execution_count": 27,
   "id": "db45273c",
   "metadata": {
    "execution": {
     "iopub.execute_input": "2022-08-26T08:55:23.832052Z",
     "iopub.status.busy": "2022-08-26T08:55:23.831178Z",
     "iopub.status.idle": "2022-08-26T08:55:24.301110Z",
     "shell.execute_reply": "2022-08-26T08:55:24.299914Z"
    },
    "papermill": {
     "duration": 0.490387,
     "end_time": "2022-08-26T08:55:24.303741",
     "exception": false,
     "start_time": "2022-08-26T08:55:23.813354",
     "status": "completed"
    },
    "tags": []
   },
   "outputs": [
    {
     "data": {
      "text/plain": [
       "Text(0.5, 1.0, 'Percent total number of ratings on brands')"
      ]
     },
     "execution_count": 27,
     "metadata": {},
     "output_type": "execute_result"
    },
    {
     "data": {
      "image/png": "[encoded data removed]",
      "text/plain": [
       "<Figure size 720x720 with 1 Axes>"
      ]
     },
     "metadata": {},
     "output_type": "display_data"
    }
   ],
   "source": [
    "brand_rating=df.groupby(\"Brand\").aggregate({\"Rated_people\":\"sum\"}).sort_values(by=\"Rated_people\",ascending=False).reset_index()\n",
    "\n",
    "plt.figure(figsize=(10,10))\n",
    "plt.pie(data=brand_rating,labels=\"Brand\",x=\"Rated_people\",autopct=\"%1.2f%%\");\n",
    "plt.title(\"Percent total number of ratings on brands\")"
   ]
  },
  {
   "cell_type": "markdown",
   "id": "c99c355f",
   "metadata": {
    "papermill": {
     "duration": 0.016124,
     "end_time": "2022-08-26T08:55:24.338224",
     "exception": false,
     "start_time": "2022-08-26T08:55:24.322100",
     "status": "completed"
    },
    "tags": []
   },
   "source": [
    "***\n",
    "* Samsung and Redmi has the most ratings (almost 93%)\n",
    "* We can conclude that these brands are more famous or more sold.\n",
    "***"
   ]
  },
  {
   "cell_type": "code",
   "execution_count": 28,
   "id": "eb9234ea",
   "metadata": {
    "execution": {
     "iopub.execute_input": "2022-08-26T08:55:24.373233Z",
     "iopub.status.busy": "2022-08-26T08:55:24.372215Z",
     "iopub.status.idle": "2022-08-26T08:55:24.785036Z",
     "shell.execute_reply": "2022-08-26T08:55:24.783801Z"
    },
    "papermill": {
     "duration": 0.432834,
     "end_time": "2022-08-26T08:55:24.787621",
     "exception": false,
     "start_time": "2022-08-26T08:55:24.354787",
     "status": "completed"
    },
    "tags": []
   },
   "outputs": [
    {
     "data": {
      "text/plain": [
       "<AxesSubplot:title={'center':'Brand name vs Total Number of Ratings (Lowest)'}, xlabel='Brand', ylabel='Rated_people'>"
      ]
     },
     "execution_count": 28,
     "metadata": {},
     "output_type": "execute_result"
    },
    {
     "data": {
      "image/png": "[encoded data removed]",
      "text/plain": [
       "<Figure size 1080x720 with 2 Axes>"
      ]
     },
     "metadata": {
      "needs_background": "light"
     },
     "output_type": "display_data"
    }
   ],
   "source": [
    "plt.figure(figsize=(15,10))\n",
    "\n",
    "plt.subplot(2,1,1)\n",
    "plt.title(\"Brand name vs Total Number of Ratings (Highest)\")\n",
    "highest=brand_rating.head(5)\n",
    "lowest=brand_rating.tail(5)\n",
    "\n",
    "sns.barplot(data=pd.concat([highest,lowest]),x=\"Brand\",y=\"Rated_people\")\n",
    "plt.subplot(2,1,2)\n",
    "plt.title(\"Brand name vs Total Number of Ratings (Lowest)\")\n",
    "sns.barplot(data=lowest,x=\"Brand\",y=\"Rated_people\")"
   ]
  },
  {
   "cell_type": "markdown",
   "id": "9d66540f",
   "metadata": {
    "execution": {
     "iopub.execute_input": "2022-08-24T13:35:48.156231Z",
     "iopub.status.busy": "2022-08-24T13:35:48.155863Z",
     "iopub.status.idle": "2022-08-24T13:35:48.167902Z",
     "shell.execute_reply": "2022-08-24T13:35:48.167166Z",
     "shell.execute_reply.started": "2022-08-24T13:35:48.156206Z"
    },
    "papermill": {
     "duration": 0.016778,
     "end_time": "2022-08-26T08:55:24.821518",
     "exception": false,
     "start_time": "2022-08-26T08:55:24.804740",
     "status": "completed"
    },
    "tags": []
   },
   "source": [
    "***\n",
    "* There are brands with having number of ratings less than 100.\n",
    "* It would be better to see real ratings without these less rated Brands.\n",
    "***"
   ]
  },
  {
   "cell_type": "code",
   "execution_count": 29,
   "id": "a5955202",
   "metadata": {
    "execution": {
     "iopub.execute_input": "2022-08-26T08:55:24.857555Z",
     "iopub.status.busy": "2022-08-26T08:55:24.856878Z",
     "iopub.status.idle": "2022-08-26T08:55:25.195303Z",
     "shell.execute_reply": "2022-08-26T08:55:25.194150Z"
    },
    "papermill": {
     "duration": 0.359567,
     "end_time": "2022-08-26T08:55:25.198248",
     "exception": false,
     "start_time": "2022-08-26T08:55:24.838681",
     "status": "completed"
    },
    "tags": []
   },
   "outputs": [
    {
     "data": {
      "text/plain": [
       "<AxesSubplot:title={'center':'Least 5 ratings'}, xlabel='Brand', ylabel='ratting_out_of_five'>"
      ]
     },
     "execution_count": 29,
     "metadata": {},
     "output_type": "execute_result"
    },
    {
     "data": {
      "image/png": "[encoded data removed]",
      "text/plain": [
       "<Figure size 1080x288 with 2 Axes>"
      ]
     },
     "metadata": {
      "needs_background": "light"
     },
     "output_type": "display_data"
    }
   ],
   "source": [
    "# Get brands with at least 100 ratings\n",
    "\n",
    "brand_rating=df.groupby(\"Brand\").aggregate({\"ratting_out_of_five\":\"mean\",\"Rated_people\":\"sum\"}).sort_values(by=\"ratting_out_of_five\",ascending=False).reset_index()\n",
    "\n",
    "more_rated_brands=brand_rating.loc[brand_rating.Rated_people>100,:]\n",
    "\n",
    "plt.figure(figsize=(15,4))\n",
    "plt.ylim(0,5)\n",
    "plt.subplot(1,2,1)\n",
    "plt.title(\"Top 5 ratings\")\n",
    "sns.barplot(data=more_rated_brands.head(5),x=\"Brand\",y=\"ratting_out_of_five\")\n",
    "plt.subplot(1,2,2)\n",
    "plt.title(\"Least 5 ratings\")\n",
    "plt.ylim(0,5)\n",
    "sns.barplot(data=more_rated_brands.tail(5),x=\"Brand\",y=\"ratting_out_of_five\",)"
   ]
  },
  {
   "cell_type": "markdown",
   "id": "7c322a01",
   "metadata": {
    "execution": {
     "iopub.execute_input": "2022-08-24T13:50:53.476565Z",
     "iopub.status.busy": "2022-08-24T13:50:53.476199Z",
     "iopub.status.idle": "2022-08-24T13:50:53.485807Z",
     "shell.execute_reply": "2022-08-24T13:50:53.483635Z",
     "shell.execute_reply.started": "2022-08-24T13:50:53.476538Z"
    },
    "papermill": {
     "duration": 0.017495,
     "end_time": "2022-08-26T08:55:25.234105",
     "exception": false,
     "start_time": "2022-08-26T08:55:25.216610",
     "status": "completed"
    },
    "tags": []
   },
   "source": [
    "***\n",
    "* In this new situation Apple, Oppo and Oneplus are the most upvoted.\n",
    "* Panasonic, Micromaxt and I Kall are least upvoted.\n",
    "***"
   ]
  },
  {
   "cell_type": "markdown",
   "id": "d85091e5",
   "metadata": {
    "execution": {
     "iopub.execute_input": "2022-08-26T06:48:18.419282Z",
     "iopub.status.busy": "2022-08-26T06:48:18.418866Z",
     "iopub.status.idle": "2022-08-26T06:48:18.425404Z",
     "shell.execute_reply": "2022-08-26T06:48:18.423806Z",
     "shell.execute_reply.started": "2022-08-26T06:48:18.419250Z"
    },
    "papermill": {
     "duration": 0.017283,
     "end_time": "2022-08-26T08:55:25.269538",
     "exception": false,
     "start_time": "2022-08-26T08:55:25.252255",
     "status": "completed"
    },
    "tags": []
   },
   "source": [
    "### 4.2. Ratings vs Price"
   ]
  },
  {
   "cell_type": "code",
   "execution_count": 30,
   "id": "269b0845",
   "metadata": {
    "execution": {
     "iopub.execute_input": "2022-08-26T08:55:25.307666Z",
     "iopub.status.busy": "2022-08-26T08:55:25.306450Z",
     "iopub.status.idle": "2022-08-26T08:55:25.663463Z",
     "shell.execute_reply": "2022-08-26T08:55:25.662319Z"
    },
    "papermill": {
     "duration": 0.378868,
     "end_time": "2022-08-26T08:55:25.666371",
     "exception": false,
     "start_time": "2022-08-26T08:55:25.287503",
     "status": "completed"
    },
    "tags": []
   },
   "outputs": [
    {
     "data": {
      "text/plain": [
       "<AxesSubplot:>"
      ]
     },
     "execution_count": 30,
     "metadata": {},
     "output_type": "execute_result"
    },
    {
     "data": {
      "image/png": "[encoded data removed]",
      "text/plain": [
       "<Figure size 576x432 with 2 Axes>"
      ]
     },
     "metadata": {
      "needs_background": "light"
     },
     "output_type": "display_data"
    }
   ],
   "source": [
    "numeric_columns= df.select_dtypes(include=np.number).columns.tolist()\n",
    "\n",
    "plt.figure(figsize=(8,6))\n",
    "sns.heatmap(df[numeric_columns].corr(),annot=True)"
   ]
  },
  {
   "cell_type": "markdown",
   "id": "69db647d",
   "metadata": {
    "papermill": {
     "duration": 0.017823,
     "end_time": "2022-08-26T08:55:25.702518",
     "exception": false,
     "start_time": "2022-08-26T08:55:25.684695",
     "status": "completed"
    },
    "tags": []
   },
   "source": [
    "***\n",
    "* There is no strong correlation between price features and rating features\n",
    "* So rating of any phone does not significantly change the price of a product.\n",
    "* Maybe companies should decrease the price of a product having low ratings and increase the prices having high ratings to increase profit\n",
    "***"
   ]
  },
  {
   "cell_type": "markdown",
   "id": "f0137431",
   "metadata": {
    "papermill": {
     "duration": 0.017956,
     "end_time": "2022-08-26T08:55:25.738650",
     "exception": false,
     "start_time": "2022-08-26T08:55:25.720694",
     "status": "completed"
    },
    "tags": []
   },
   "source": [
    "### 4.3. Brands vs Price and Total Products Offered By Brands"
   ]
  },
  {
   "cell_type": "code",
   "execution_count": 31,
   "id": "9bcc3e74",
   "metadata": {
    "execution": {
     "iopub.execute_input": "2022-08-26T08:55:25.781633Z",
     "iopub.status.busy": "2022-08-26T08:55:25.781159Z",
     "iopub.status.idle": "2022-08-26T08:55:25.796269Z",
     "shell.execute_reply": "2022-08-26T08:55:25.795451Z"
    },
    "papermill": {
     "duration": 0.037481,
     "end_time": "2022-08-26T08:55:25.798287",
     "exception": false,
     "start_time": "2022-08-26T08:55:25.760806",
     "status": "completed"
    },
    "tags": []
   },
   "outputs": [
    {
     "data": {
      "text/html": [
       "<div>\n",
       "<style scoped>\n",
       "    .dataframe tbody tr th:only-of-type {\n",
       "        vertical-align: middle;\n",
       "    }\n",
       "\n",
       "    .dataframe tbody tr th {\n",
       "        vertical-align: top;\n",
       "    }\n",
       "\n",
       "    .dataframe thead th {\n",
       "        text-align: right;\n",
       "    }\n",
       "</style>\n",
       "<table border=\"1\" class=\"dataframe\">\n",
       "  <thead>\n",
       "    <tr style=\"text-align: right;\">\n",
       "      <th></th>\n",
       "      <th>phone_name</th>\n",
       "      <th>Brand</th>\n",
       "      <th>ratting_out_of_five</th>\n",
       "      <th>Rated_people</th>\n",
       "      <th>Offered_price_in_rupee</th>\n",
       "      <th>real_rice_in_rupee</th>\n",
       "      <th>Percent_off</th>\n",
       "    </tr>\n",
       "  </thead>\n",
       "  <tbody>\n",
       "    <tr>\n",
       "      <th>0</th>\n",
       "      <td>SAMSUNG GALAXY S20 FE 5G (CLOUD NAVY, 8GB RAM,...</td>\n",
       "      <td>SAMSUNG</td>\n",
       "      <td>4.4</td>\n",
       "      <td>17194</td>\n",
       "      <td>39990.0</td>\n",
       "      <td>74999.0</td>\n",
       "      <td>47.0</td>\n",
       "    </tr>\n",
       "    <tr>\n",
       "      <th>1</th>\n",
       "      <td>SAMSUNG GALAXY M32 (LIGHT BLUE, 4GB RAM, 64GB ...</td>\n",
       "      <td>SAMSUNG</td>\n",
       "      <td>4.1</td>\n",
       "      <td>44417</td>\n",
       "      <td>14999.0</td>\n",
       "      <td>16999.0</td>\n",
       "      <td>12.0</td>\n",
       "    </tr>\n",
       "    <tr>\n",
       "      <th>2</th>\n",
       "      <td>REDMI 9A SPORT (CORAL GREEN, 2GB RAM, 32GB STO...</td>\n",
       "      <td>REDMI</td>\n",
       "      <td>4.2</td>\n",
       "      <td>178833</td>\n",
       "      <td>6999.0</td>\n",
       "      <td>8499.0</td>\n",
       "      <td>18.0</td>\n",
       "    </tr>\n",
       "    <tr>\n",
       "      <th>4</th>\n",
       "      <td>REDMI 9A SPORT (CARBON BLACK, 2GB RAM, 32GB ST...</td>\n",
       "      <td>REDMI</td>\n",
       "      <td>4.2</td>\n",
       "      <td>178833</td>\n",
       "      <td>6999.0</td>\n",
       "      <td>7999.0</td>\n",
       "      <td>13.0</td>\n",
       "    </tr>\n",
       "    <tr>\n",
       "      <th>5</th>\n",
       "      <td>JIO NEXT 32 GB ROM, 2 GB RAM, BLUE SMARTPHONE</td>\n",
       "      <td>JIO</td>\n",
       "      <td>3.6</td>\n",
       "      <td>1071</td>\n",
       "      <td>4500.0</td>\n",
       "      <td>7299.0</td>\n",
       "      <td>38.0</td>\n",
       "    </tr>\n",
       "  </tbody>\n",
       "</table>\n",
       "</div>"
      ],
      "text/plain": [
       "                                          phone_name    Brand  \\\n",
       "0  SAMSUNG GALAXY S20 FE 5G (CLOUD NAVY, 8GB RAM,...  SAMSUNG   \n",
       "1  SAMSUNG GALAXY M32 (LIGHT BLUE, 4GB RAM, 64GB ...  SAMSUNG   \n",
       "2  REDMI 9A SPORT (CORAL GREEN, 2GB RAM, 32GB STO...    REDMI   \n",
       "4  REDMI 9A SPORT (CARBON BLACK, 2GB RAM, 32GB ST...    REDMI   \n",
       "5      JIO NEXT 32 GB ROM, 2 GB RAM, BLUE SMARTPHONE      JIO   \n",
       "\n",
       "   ratting_out_of_five  Rated_people  Offered_price_in_rupee  \\\n",
       "0                  4.4         17194                 39990.0   \n",
       "1                  4.1         44417                 14999.0   \n",
       "2                  4.2        178833                  6999.0   \n",
       "4                  4.2        178833                  6999.0   \n",
       "5                  3.6          1071                  4500.0   \n",
       "\n",
       "   real_rice_in_rupee  Percent_off  \n",
       "0             74999.0         47.0  \n",
       "1             16999.0         12.0  \n",
       "2              8499.0         18.0  \n",
       "4              7999.0         13.0  \n",
       "5              7299.0         38.0  "
      ]
     },
     "execution_count": 31,
     "metadata": {},
     "output_type": "execute_result"
    }
   ],
   "source": [
    "df.head()"
   ]
  },
  {
   "cell_type": "code",
   "execution_count": 32,
   "id": "d8745e15",
   "metadata": {
    "execution": {
     "iopub.execute_input": "2022-08-26T08:55:25.838221Z",
     "iopub.status.busy": "2022-08-26T08:55:25.837256Z",
     "iopub.status.idle": "2022-08-26T08:55:26.505635Z",
     "shell.execute_reply": "2022-08-26T08:55:26.504529Z"
    },
    "papermill": {
     "duration": 0.691605,
     "end_time": "2022-08-26T08:55:26.508369",
     "exception": false,
     "start_time": "2022-08-26T08:55:25.816764",
     "status": "completed"
    },
    "tags": []
   },
   "outputs": [
    {
     "name": "stderr",
     "output_type": "stream",
     "text": [
      "/opt/conda/lib/python3.7/site-packages/seaborn/categorical.py:1296: UserWarning: 10.7% of the points cannot be placed; you may want to decrease the size of the markers or use stripplot.\n",
      "  warnings.warn(msg, UserWarning)\n",
      "/opt/conda/lib/python3.7/site-packages/seaborn/categorical.py:1296: UserWarning: 63.4% of the points cannot be placed; you may want to decrease the size of the markers or use stripplot.\n",
      "  warnings.warn(msg, UserWarning)\n"
     ]
    },
    {
     "data": {
      "text/plain": [
       "Text(0, 0.5, 'Price')"
      ]
     },
     "execution_count": 32,
     "metadata": {},
     "output_type": "execute_result"
    },
    {
     "data": {
      "image/png": "[encoded data removed]",
      "text/plain": [
       "<Figure size 1440x504 with 1 Axes>"
      ]
     },
     "metadata": {
      "needs_background": "light"
     },
     "output_type": "display_data"
    }
   ],
   "source": [
    "plt.figure(figsize=(20,7))\n",
    "sns.swarmplot(data=df,x=\"Brand\",y=\"Offered_price_in_rupee\",size=5);\n",
    "plt.title(\"Brands vs Distribution of Phone Prices\")\n",
    "plt.ylabel(\"Price\")"
   ]
  },
  {
   "cell_type": "markdown",
   "id": "bcb6b265",
   "metadata": {
    "papermill": {
     "duration": 0.018892,
     "end_time": "2022-08-26T08:55:26.546891",
     "exception": false,
     "start_time": "2022-08-26T08:55:26.527999",
     "status": "completed"
    },
    "tags": []
   },
   "source": [
    "***\n",
    "* Apple products are the most expensive ones.\n",
    "* Samsung has one expensive product rivaling with Apple products.\n",
    "* Samsung also offeres mid-class and cheap phones.\n",
    "* Redmi, Realme, Nokia, Tecno, I Kall offeres low price phones.\n",
    "* Oneplus and IQOO position itself in the mid-class phones.\n",
    "* Other brands do not have enough data points to comment.\n",
    "***"
   ]
  },
  {
   "cell_type": "code",
   "execution_count": 33,
   "id": "86193203",
   "metadata": {
    "execution": {
     "iopub.execute_input": "2022-08-26T08:55:26.587506Z",
     "iopub.status.busy": "2022-08-26T08:55:26.586729Z",
     "iopub.status.idle": "2022-08-26T08:55:26.614568Z",
     "shell.execute_reply": "2022-08-26T08:55:26.613772Z"
    },
    "papermill": {
     "duration": 0.05029,
     "end_time": "2022-08-26T08:55:26.616491",
     "exception": false,
     "start_time": "2022-08-26T08:55:26.566201",
     "status": "completed"
    },
    "tags": []
   },
   "outputs": [
    {
     "data": {
      "text/html": [
       "<div>\n",
       "<style scoped>\n",
       "    .dataframe tbody tr th:only-of-type {\n",
       "        vertical-align: middle;\n",
       "    }\n",
       "\n",
       "    .dataframe tbody tr th {\n",
       "        vertical-align: top;\n",
       "    }\n",
       "\n",
       "    .dataframe thead th {\n",
       "        text-align: right;\n",
       "    }\n",
       "</style>\n",
       "<table border=\"1\" class=\"dataframe\">\n",
       "  <thead>\n",
       "    <tr style=\"text-align: right;\">\n",
       "      <th></th>\n",
       "      <th>Brand</th>\n",
       "      <th>Offered_price_in_rupee</th>\n",
       "      <th>Percent_off</th>\n",
       "      <th>Count</th>\n",
       "    </tr>\n",
       "  </thead>\n",
       "  <tbody>\n",
       "    <tr>\n",
       "      <th>0</th>\n",
       "      <td>APPLE</td>\n",
       "      <td>68900.000000</td>\n",
       "      <td>14.000000</td>\n",
       "      <td>3</td>\n",
       "    </tr>\n",
       "    <tr>\n",
       "      <th>2</th>\n",
       "      <td>ONEPLUS</td>\n",
       "      <td>36399.000000</td>\n",
       "      <td>10.400000</td>\n",
       "      <td>5</td>\n",
       "    </tr>\n",
       "    <tr>\n",
       "      <th>4</th>\n",
       "      <td>IQOO</td>\n",
       "      <td>21812.000000</td>\n",
       "      <td>20.928571</td>\n",
       "      <td>14</td>\n",
       "    </tr>\n",
       "    <tr>\n",
       "      <th>5</th>\n",
       "      <td>SAMSUNG</td>\n",
       "      <td>20791.828125</td>\n",
       "      <td>22.812500</td>\n",
       "      <td>64</td>\n",
       "    </tr>\n",
       "    <tr>\n",
       "      <th>6</th>\n",
       "      <td>XIAOMI</td>\n",
       "      <td>20494.500000</td>\n",
       "      <td>23.000000</td>\n",
       "      <td>4</td>\n",
       "    </tr>\n",
       "    <tr>\n",
       "      <th>8</th>\n",
       "      <td>VIVO</td>\n",
       "      <td>17143.300000</td>\n",
       "      <td>21.800000</td>\n",
       "      <td>10</td>\n",
       "    </tr>\n",
       "    <tr>\n",
       "      <th>10</th>\n",
       "      <td>REDMI</td>\n",
       "      <td>12573.321429</td>\n",
       "      <td>21.767857</td>\n",
       "      <td>56</td>\n",
       "    </tr>\n",
       "    <tr>\n",
       "      <th>11</th>\n",
       "      <td>OPPO</td>\n",
       "      <td>11756.666667</td>\n",
       "      <td>29.333333</td>\n",
       "      <td>15</td>\n",
       "    </tr>\n",
       "    <tr>\n",
       "      <th>12</th>\n",
       "      <td>REALME</td>\n",
       "      <td>11734.947368</td>\n",
       "      <td>12.473684</td>\n",
       "      <td>19</td>\n",
       "    </tr>\n",
       "    <tr>\n",
       "      <th>13</th>\n",
       "      <td>TECNO</td>\n",
       "      <td>11362.157895</td>\n",
       "      <td>21.421053</td>\n",
       "      <td>19</td>\n",
       "    </tr>\n",
       "    <tr>\n",
       "      <th>15</th>\n",
       "      <td>NOKIA</td>\n",
       "      <td>10347.515152</td>\n",
       "      <td>20.333333</td>\n",
       "      <td>33</td>\n",
       "    </tr>\n",
       "    <tr>\n",
       "      <th>17</th>\n",
       "      <td>LAVA</td>\n",
       "      <td>8122.750000</td>\n",
       "      <td>13.000000</td>\n",
       "      <td>8</td>\n",
       "    </tr>\n",
       "    <tr>\n",
       "      <th>20</th>\n",
       "      <td>I KALL</td>\n",
       "      <td>5959.975610</td>\n",
       "      <td>25.731707</td>\n",
       "      <td>41</td>\n",
       "    </tr>\n",
       "    <tr>\n",
       "      <th>22</th>\n",
       "      <td>JIO</td>\n",
       "      <td>4640.166667</td>\n",
       "      <td>36.000000</td>\n",
       "      <td>6</td>\n",
       "    </tr>\n",
       "    <tr>\n",
       "      <th>23</th>\n",
       "      <td>ITEL</td>\n",
       "      <td>4480.500000</td>\n",
       "      <td>10.500000</td>\n",
       "      <td>4</td>\n",
       "    </tr>\n",
       "    <tr>\n",
       "      <th>24</th>\n",
       "      <td>MICROMAX</td>\n",
       "      <td>3825.333333</td>\n",
       "      <td>28.000000</td>\n",
       "      <td>3</td>\n",
       "    </tr>\n",
       "  </tbody>\n",
       "</table>\n",
       "</div>"
      ],
      "text/plain": [
       "       Brand  Offered_price_in_rupee  Percent_off  Count\n",
       "0      APPLE            68900.000000    14.000000      3\n",
       "2    ONEPLUS            36399.000000    10.400000      5\n",
       "4       IQOO            21812.000000    20.928571     14\n",
       "5    SAMSUNG            20791.828125    22.812500     64\n",
       "6     XIAOMI            20494.500000    23.000000      4\n",
       "8       VIVO            17143.300000    21.800000     10\n",
       "10     REDMI            12573.321429    21.767857     56\n",
       "11      OPPO            11756.666667    29.333333     15\n",
       "12    REALME            11734.947368    12.473684     19\n",
       "13     TECNO            11362.157895    21.421053     19\n",
       "15     NOKIA            10347.515152    20.333333     33\n",
       "17      LAVA             8122.750000    13.000000      8\n",
       "20    I KALL             5959.975610    25.731707     41\n",
       "22       JIO             4640.166667    36.000000      6\n",
       "23      ITEL             4480.500000    10.500000      4\n",
       "24  MICROMAX             3825.333333    28.000000      3"
      ]
     },
     "execution_count": 33,
     "metadata": {},
     "output_type": "execute_result"
    }
   ],
   "source": [
    "# Count number of phones offered by Brands\n",
    "occurences_of_brands=pd.DataFrame(df[\"Brand\"].value_counts()).rename(columns={\"Brand\":\"Count\"})\n",
    "\n",
    "# calculate mean prices of phone by brands and discount percents\n",
    "brand_price=df.groupby(\"Brand\").aggregate({\"Offered_price_in_rupee\":\"mean\",\"Percent_off\":\"mean\"}).sort_values(by=\"Offered_price_in_rupee\",ascending=False)\n",
    "\n",
    "# merge number of phones with mean prices and discounts\n",
    "brand_price=brand_price.join(occurences_of_brands,on=\"Brand\").reset_index()\n",
    "\n",
    "# get brands offering at least 3 phones to the market\n",
    "brand_price=brand_price.loc[brand_price[\"Count\"]>2,:]\n",
    "\n",
    "# sort by mean price\n",
    "brand_price.sort_values(by=\"Offered_price_in_rupee\",ascending=False)"
   ]
  },
  {
   "cell_type": "code",
   "execution_count": 34,
   "id": "33610120",
   "metadata": {
    "execution": {
     "iopub.execute_input": "2022-08-26T08:55:26.657732Z",
     "iopub.status.busy": "2022-08-26T08:55:26.657304Z",
     "iopub.status.idle": "2022-08-26T08:55:27.006597Z",
     "shell.execute_reply": "2022-08-26T08:55:27.005360Z"
    },
    "papermill": {
     "duration": 0.372927,
     "end_time": "2022-08-26T08:55:27.009028",
     "exception": false,
     "start_time": "2022-08-26T08:55:26.636101",
     "status": "completed"
    },
    "tags": []
   },
   "outputs": [
    {
     "data": {
      "text/plain": [
       "Text(0.5, 1.0, 'Top 5 Expensive Products vs Mean Prices ')"
      ]
     },
     "execution_count": 34,
     "metadata": {},
     "output_type": "execute_result"
    },
    {
     "data": {
      "image/png": "[encoded data removed]",
      "text/plain": [
       "<Figure size 432x288 with 1 Axes>"
      ]
     },
     "metadata": {
      "needs_background": "light"
     },
     "output_type": "display_data"
    }
   ],
   "source": [
    "sns.barplot(data=brand_price.head(5),x=\"Brand\",y=\"Offered_price_in_rupee\")\n",
    "plt.ylabel(\"Price\")\n",
    "plt.title(\"Top 5 Expensive Products vs Mean Prices \")"
   ]
  },
  {
   "cell_type": "markdown",
   "id": "beecee4c",
   "metadata": {
    "papermill": {
     "duration": 0.019836,
     "end_time": "2022-08-26T08:55:27.049093",
     "exception": false,
     "start_time": "2022-08-26T08:55:27.029257",
     "status": "completed"
    },
    "tags": []
   },
   "source": [
    "***\n",
    "* Our previous idead hold true. Apple has the most expensive products\n",
    "* Oneplus and IQOO offers middle-class products \n",
    "***"
   ]
  },
  {
   "cell_type": "code",
   "execution_count": 35,
   "id": "8d15cb4d",
   "metadata": {
    "execution": {
     "iopub.execute_input": "2022-08-26T08:55:27.092319Z",
     "iopub.status.busy": "2022-08-26T08:55:27.091209Z",
     "iopub.status.idle": "2022-08-26T08:55:27.502103Z",
     "shell.execute_reply": "2022-08-26T08:55:27.499896Z"
    },
    "papermill": {
     "duration": 0.436003,
     "end_time": "2022-08-26T08:55:27.505416",
     "exception": false,
     "start_time": "2022-08-26T08:55:27.069413",
     "status": "completed"
    },
    "tags": []
   },
   "outputs": [
    {
     "data": {
      "image/png": "[encoded data removed]",
      "text/plain": [
       "<Figure size 1440x360 with 2 Axes>"
      ]
     },
     "metadata": {
      "needs_background": "light"
     },
     "output_type": "display_data"
    }
   ],
   "source": [
    "# sort by number of products offered\n",
    "brand_price=brand_price.sort_values(by=\"Count\",ascending=False)\n",
    "\n",
    "plt.figure(figsize=(20,5))\n",
    "plt.subplot(1,2,1)\n",
    "sns.barplot(data=brand_price.head(5),x=\"Brand\",y=\"Count\")\n",
    "\n",
    "plt.subplot(1,2,2)\n",
    "plt.pie(data=brand_price,x=\"Count\",labels=\"Brand\",autopct=\"%1.2f%%\",radius=1.5);"
   ]
  },
  {
   "cell_type": "markdown",
   "id": "30ad9e61",
   "metadata": {
    "papermill": {
     "duration": 0.021541,
     "end_time": "2022-08-26T08:55:27.553554",
     "exception": false,
     "start_time": "2022-08-26T08:55:27.532013",
     "status": "completed"
    },
    "tags": []
   },
   "source": [
    "***\n",
    "* Samsung, Redmi, I Kall, Nokia and Realme offers more phone variety than other Brands.\n",
    "* These 5 brands has the majority of market (more than 70%)\n",
    "***"
   ]
  },
  {
   "cell_type": "markdown",
   "id": "e81e915d",
   "metadata": {
    "papermill": {
     "duration": 0.020806,
     "end_time": "2022-08-26T08:55:27.595633",
     "exception": false,
     "start_time": "2022-08-26T08:55:27.574827",
     "status": "completed"
    },
    "tags": []
   },
   "source": [
    "**Please give comments to help me improving my skills.**\n",
    "\n",
    "**Further Analysis Topics**\n",
    "* I will try to learn how to get  features (RAM,processor,GHz etc.) from Brand_Name column. (If you know the way, please advise me)\n",
    "* Then, I will check the relation between features and price, or features and number of ratings by supervised learning models.\n"
   ]
  }
 ],
 "metadata": {
  "kernelspec": {
   "display_name": "Python 3",
   "language": "python",
   "name": "python3"
  },
  "language_info": {
   "codemirror_mode": {
    "name": "ipython",
    "version": 3
   },
   "file_extension": ".py",
   "mimetype": "text/x-python",
   "name": "python",
   "nbconvert_exporter": "python",
   "pygments_lexer": "ipython3",
   "version": "3.7.12"
  },
  "papermill": {
   "default_parameters": {},
   "duration": 31.163737,
   "end_time": "2022-08-26T08:55:28.440637",
   "environment_variables": {},
   "exception": null,
   "input_path": "__notebook__.ipynb",
   "output_path": "__notebook__.ipynb",
   "parameters": {},
   "start_time": "2022-08-26T08:54:57.276900",
   "version": "2.3.4"
  }
 },
 "nbformat": 4,
 "nbformat_minor": 5
}
